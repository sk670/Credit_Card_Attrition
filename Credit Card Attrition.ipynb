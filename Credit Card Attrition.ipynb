{
 "cells": [
  {
   "cell_type": "code",
   "execution_count": 233,
   "id": "cf459ca3",
   "metadata": {},
   "outputs": [],
   "source": [
    "import numpy as np\n",
    "import pandas as pd\n",
    "import seaborn as sns\n",
    "import matplotlib.pyplot as plt\n",
    "%matplotlib inline"
   ]
  },
  {
   "cell_type": "code",
   "execution_count": 394,
   "id": "4af6f08d",
   "metadata": {},
   "outputs": [],
   "source": [
    "data = pd.read_csv('Banking_CreditCardAttrition.csv',sep=';')"
   ]
  },
  {
   "cell_type": "code",
   "execution_count": 395,
   "id": "042cc32f",
   "metadata": {},
   "outputs": [
    {
     "data": {
      "text/html": [
       "<div>\n",
       "<style scoped>\n",
       "    .dataframe tbody tr th:only-of-type {\n",
       "        vertical-align: middle;\n",
       "    }\n",
       "\n",
       "    .dataframe tbody tr th {\n",
       "        vertical-align: top;\n",
       "    }\n",
       "\n",
       "    .dataframe thead th {\n",
       "        text-align: right;\n",
       "    }\n",
       "</style>\n",
       "<table border=\"1\" class=\"dataframe\">\n",
       "  <thead>\n",
       "    <tr style=\"text-align: right;\">\n",
       "      <th></th>\n",
       "      <th>CLIENTNUM</th>\n",
       "      <th>Attrition_Flag</th>\n",
       "      <th>Customer_Age</th>\n",
       "      <th>Gender</th>\n",
       "      <th>Dependent_count</th>\n",
       "      <th>Education_Level</th>\n",
       "      <th>Marital_Status</th>\n",
       "      <th>Income_Category</th>\n",
       "      <th>Card_Category</th>\n",
       "      <th>Months_on_book</th>\n",
       "      <th>...</th>\n",
       "      <th>Trans_Amt_Dec12</th>\n",
       "      <th>Trans_Amt_Jan13</th>\n",
       "      <th>Trans_Amt_Feb13</th>\n",
       "      <th>Trans_Amt_Mar13</th>\n",
       "      <th>Trans_Count_Oct12</th>\n",
       "      <th>Trans_Count_Nov12</th>\n",
       "      <th>Trans_Count_Dec12</th>\n",
       "      <th>Trans_Count_Jan13</th>\n",
       "      <th>Trans_Count_Feb13</th>\n",
       "      <th>Trans_Count_Mar13</th>\n",
       "    </tr>\n",
       "  </thead>\n",
       "  <tbody>\n",
       "    <tr>\n",
       "      <th>0</th>\n",
       "      <td>768805383</td>\n",
       "      <td>0</td>\n",
       "      <td>45.0</td>\n",
       "      <td>M</td>\n",
       "      <td>3</td>\n",
       "      <td>High School</td>\n",
       "      <td>Married</td>\n",
       "      <td>$60K - $80K</td>\n",
       "      <td>Blue</td>\n",
       "      <td>39</td>\n",
       "      <td>...</td>\n",
       "      <td>253</td>\n",
       "      <td>196</td>\n",
       "      <td>196</td>\n",
       "      <td>262</td>\n",
       "      <td>0</td>\n",
       "      <td>7</td>\n",
       "      <td>9</td>\n",
       "      <td>12</td>\n",
       "      <td>7</td>\n",
       "      <td>7</td>\n",
       "    </tr>\n",
       "    <tr>\n",
       "      <th>1</th>\n",
       "      <td>818770008</td>\n",
       "      <td>0</td>\n",
       "      <td>49.0</td>\n",
       "      <td>F</td>\n",
       "      <td>5</td>\n",
       "      <td>Graduate</td>\n",
       "      <td>Single</td>\n",
       "      <td>Less than $40K</td>\n",
       "      <td>Blue</td>\n",
       "      <td>44</td>\n",
       "      <td>...</td>\n",
       "      <td>242</td>\n",
       "      <td>323</td>\n",
       "      <td>222</td>\n",
       "      <td>238</td>\n",
       "      <td>0</td>\n",
       "      <td>1</td>\n",
       "      <td>6</td>\n",
       "      <td>11</td>\n",
       "      <td>7</td>\n",
       "      <td>8</td>\n",
       "    </tr>\n",
       "    <tr>\n",
       "      <th>2</th>\n",
       "      <td>713982108</td>\n",
       "      <td>0</td>\n",
       "      <td>51.0</td>\n",
       "      <td>M</td>\n",
       "      <td>3</td>\n",
       "      <td>Graduate</td>\n",
       "      <td>Married</td>\n",
       "      <td>$80K - $120K</td>\n",
       "      <td>Blue</td>\n",
       "      <td>36</td>\n",
       "      <td>...</td>\n",
       "      <td>330</td>\n",
       "      <td>967</td>\n",
       "      <td>213</td>\n",
       "      <td>182</td>\n",
       "      <td>0</td>\n",
       "      <td>1</td>\n",
       "      <td>5</td>\n",
       "      <td>5</td>\n",
       "      <td>4</td>\n",
       "      <td>5</td>\n",
       "    </tr>\n",
       "    <tr>\n",
       "      <th>3</th>\n",
       "      <td>769911858</td>\n",
       "      <td>0</td>\n",
       "      <td>40.0</td>\n",
       "      <td>F</td>\n",
       "      <td>4</td>\n",
       "      <td>High School</td>\n",
       "      <td>Unknown</td>\n",
       "      <td>Less than $40K</td>\n",
       "      <td>Blue</td>\n",
       "      <td>34</td>\n",
       "      <td>...</td>\n",
       "      <td>166</td>\n",
       "      <td>184</td>\n",
       "      <td>285</td>\n",
       "      <td>215</td>\n",
       "      <td>0</td>\n",
       "      <td>4</td>\n",
       "      <td>2</td>\n",
       "      <td>5</td>\n",
       "      <td>2</td>\n",
       "      <td>7</td>\n",
       "    </tr>\n",
       "    <tr>\n",
       "      <th>4</th>\n",
       "      <td>709106358</td>\n",
       "      <td>0</td>\n",
       "      <td>40.0</td>\n",
       "      <td>M</td>\n",
       "      <td>3</td>\n",
       "      <td>Uneducated</td>\n",
       "      <td>Married</td>\n",
       "      <td>$60K - $80K</td>\n",
       "      <td>Blue</td>\n",
       "      <td>21</td>\n",
       "      <td>...</td>\n",
       "      <td>149</td>\n",
       "      <td>192</td>\n",
       "      <td>88</td>\n",
       "      <td>279</td>\n",
       "      <td>0</td>\n",
       "      <td>1</td>\n",
       "      <td>7</td>\n",
       "      <td>9</td>\n",
       "      <td>5</td>\n",
       "      <td>6</td>\n",
       "    </tr>\n",
       "    <tr>\n",
       "      <th>...</th>\n",
       "      <td>...</td>\n",
       "      <td>...</td>\n",
       "      <td>...</td>\n",
       "      <td>...</td>\n",
       "      <td>...</td>\n",
       "      <td>...</td>\n",
       "      <td>...</td>\n",
       "      <td>...</td>\n",
       "      <td>...</td>\n",
       "      <td>...</td>\n",
       "      <td>...</td>\n",
       "      <td>...</td>\n",
       "      <td>...</td>\n",
       "      <td>...</td>\n",
       "      <td>...</td>\n",
       "      <td>...</td>\n",
       "      <td>...</td>\n",
       "      <td>...</td>\n",
       "      <td>...</td>\n",
       "      <td>...</td>\n",
       "      <td>...</td>\n",
       "    </tr>\n",
       "    <tr>\n",
       "      <th>10122</th>\n",
       "      <td>772366833</td>\n",
       "      <td>0</td>\n",
       "      <td>50.0</td>\n",
       "      <td>M</td>\n",
       "      <td>2</td>\n",
       "      <td>Graduate</td>\n",
       "      <td>Single</td>\n",
       "      <td>$40K - $60K</td>\n",
       "      <td>Blue</td>\n",
       "      <td>40</td>\n",
       "      <td>...</td>\n",
       "      <td>2462</td>\n",
       "      <td>2439</td>\n",
       "      <td>1556</td>\n",
       "      <td>2391</td>\n",
       "      <td>26</td>\n",
       "      <td>19</td>\n",
       "      <td>18</td>\n",
       "      <td>18</td>\n",
       "      <td>18</td>\n",
       "      <td>18</td>\n",
       "    </tr>\n",
       "    <tr>\n",
       "      <th>10123</th>\n",
       "      <td>710638233</td>\n",
       "      <td>1</td>\n",
       "      <td>41.0</td>\n",
       "      <td>M</td>\n",
       "      <td>2</td>\n",
       "      <td>Unknown</td>\n",
       "      <td>Divorced</td>\n",
       "      <td>$40K - $60K</td>\n",
       "      <td>Blue</td>\n",
       "      <td>25</td>\n",
       "      <td>...</td>\n",
       "      <td>1266</td>\n",
       "      <td>1197</td>\n",
       "      <td>1345</td>\n",
       "      <td>1363</td>\n",
       "      <td>15</td>\n",
       "      <td>13</td>\n",
       "      <td>13</td>\n",
       "      <td>9</td>\n",
       "      <td>9</td>\n",
       "      <td>10</td>\n",
       "    </tr>\n",
       "    <tr>\n",
       "      <th>10124</th>\n",
       "      <td>716506083</td>\n",
       "      <td>1</td>\n",
       "      <td>44.0</td>\n",
       "      <td>F</td>\n",
       "      <td>1</td>\n",
       "      <td>High School</td>\n",
       "      <td>Married</td>\n",
       "      <td>Less than $40K</td>\n",
       "      <td>Blue</td>\n",
       "      <td>36</td>\n",
       "      <td>...</td>\n",
       "      <td>1631</td>\n",
       "      <td>1933</td>\n",
       "      <td>1527</td>\n",
       "      <td>1174</td>\n",
       "      <td>9</td>\n",
       "      <td>12</td>\n",
       "      <td>12</td>\n",
       "      <td>9</td>\n",
       "      <td>6</td>\n",
       "      <td>12</td>\n",
       "    </tr>\n",
       "    <tr>\n",
       "      <th>10125</th>\n",
       "      <td>717406983</td>\n",
       "      <td>1</td>\n",
       "      <td>30.0</td>\n",
       "      <td>M</td>\n",
       "      <td>2</td>\n",
       "      <td>Graduate</td>\n",
       "      <td>Unknown</td>\n",
       "      <td>$40K - $60K</td>\n",
       "      <td>Blue</td>\n",
       "      <td>36</td>\n",
       "      <td>...</td>\n",
       "      <td>1596</td>\n",
       "      <td>1422</td>\n",
       "      <td>891</td>\n",
       "      <td>614</td>\n",
       "      <td>14</td>\n",
       "      <td>13</td>\n",
       "      <td>9</td>\n",
       "      <td>15</td>\n",
       "      <td>2</td>\n",
       "      <td>9</td>\n",
       "    </tr>\n",
       "    <tr>\n",
       "      <th>10126</th>\n",
       "      <td>714337233</td>\n",
       "      <td>1</td>\n",
       "      <td>43.0</td>\n",
       "      <td>F</td>\n",
       "      <td>2</td>\n",
       "      <td>Graduate</td>\n",
       "      <td>Married</td>\n",
       "      <td>Less than $40K</td>\n",
       "      <td>Silver</td>\n",
       "      <td>25</td>\n",
       "      <td>...</td>\n",
       "      <td>1892</td>\n",
       "      <td>1434</td>\n",
       "      <td>1408</td>\n",
       "      <td>1408</td>\n",
       "      <td>9</td>\n",
       "      <td>14</td>\n",
       "      <td>14</td>\n",
       "      <td>6</td>\n",
       "      <td>9</td>\n",
       "      <td>9</td>\n",
       "    </tr>\n",
       "  </tbody>\n",
       "</table>\n",
       "<p>10127 rows × 27 columns</p>\n",
       "</div>"
      ],
      "text/plain": [
       "       CLIENTNUM  Attrition_Flag  Customer_Age Gender  Dependent_count  \\\n",
       "0      768805383               0          45.0      M                3   \n",
       "1      818770008               0          49.0      F                5   \n",
       "2      713982108               0          51.0      M                3   \n",
       "3      769911858               0          40.0      F                4   \n",
       "4      709106358               0          40.0      M                3   \n",
       "...          ...             ...           ...    ...              ...   \n",
       "10122  772366833               0          50.0      M                2   \n",
       "10123  710638233               1          41.0      M                2   \n",
       "10124  716506083               1          44.0      F                1   \n",
       "10125  717406983               1          30.0      M                2   \n",
       "10126  714337233               1          43.0      F                2   \n",
       "\n",
       "      Education_Level Marital_Status Income_Category Card_Category  \\\n",
       "0         High School        Married     $60K - $80K          Blue   \n",
       "1            Graduate         Single  Less than $40K          Blue   \n",
       "2            Graduate        Married    $80K - $120K          Blue   \n",
       "3         High School        Unknown  Less than $40K          Blue   \n",
       "4          Uneducated        Married     $60K - $80K          Blue   \n",
       "...               ...            ...             ...           ...   \n",
       "10122        Graduate         Single     $40K - $60K          Blue   \n",
       "10123         Unknown       Divorced     $40K - $60K          Blue   \n",
       "10124     High School        Married  Less than $40K          Blue   \n",
       "10125        Graduate        Unknown     $40K - $60K          Blue   \n",
       "10126        Graduate        Married  Less than $40K        Silver   \n",
       "\n",
       "       Months_on_book  ...  Trans_Amt_Dec12  Trans_Amt_Jan13  Trans_Amt_Feb13  \\\n",
       "0                  39  ...              253              196              196   \n",
       "1                  44  ...              242              323              222   \n",
       "2                  36  ...              330              967              213   \n",
       "3                  34  ...              166              184              285   \n",
       "4                  21  ...              149              192               88   \n",
       "...               ...  ...              ...              ...              ...   \n",
       "10122              40  ...             2462             2439             1556   \n",
       "10123              25  ...             1266             1197             1345   \n",
       "10124              36  ...             1631             1933             1527   \n",
       "10125              36  ...             1596             1422              891   \n",
       "10126              25  ...             1892             1434             1408   \n",
       "\n",
       "       Trans_Amt_Mar13  Trans_Count_Oct12  Trans_Count_Nov12  \\\n",
       "0                  262                  0                  7   \n",
       "1                  238                  0                  1   \n",
       "2                  182                  0                  1   \n",
       "3                  215                  0                  4   \n",
       "4                  279                  0                  1   \n",
       "...                ...                ...                ...   \n",
       "10122             2391                 26                 19   \n",
       "10123             1363                 15                 13   \n",
       "10124             1174                  9                 12   \n",
       "10125              614                 14                 13   \n",
       "10126             1408                  9                 14   \n",
       "\n",
       "       Trans_Count_Dec12  Trans_Count_Jan13  Trans_Count_Feb13  \\\n",
       "0                      9                 12                  7   \n",
       "1                      6                 11                  7   \n",
       "2                      5                  5                  4   \n",
       "3                      2                  5                  2   \n",
       "4                      7                  9                  5   \n",
       "...                  ...                ...                ...   \n",
       "10122                 18                 18                 18   \n",
       "10123                 13                  9                  9   \n",
       "10124                 12                  9                  6   \n",
       "10125                  9                 15                  2   \n",
       "10126                 14                  6                  9   \n",
       "\n",
       "       Trans_Count_Mar13  \n",
       "0                      7  \n",
       "1                      8  \n",
       "2                      5  \n",
       "3                      7  \n",
       "4                      6  \n",
       "...                  ...  \n",
       "10122                 18  \n",
       "10123                 10  \n",
       "10124                 12  \n",
       "10125                  9  \n",
       "10126                  9  \n",
       "\n",
       "[10127 rows x 27 columns]"
      ]
     },
     "execution_count": 395,
     "metadata": {},
     "output_type": "execute_result"
    }
   ],
   "source": [
    "data"
   ]
  },
  {
   "cell_type": "code",
   "execution_count": 236,
   "id": "5db2f65b",
   "metadata": {},
   "outputs": [
    {
     "name": "stdout",
     "output_type": "stream",
     "text": [
      "<class 'pandas.core.frame.DataFrame'>\n",
      "RangeIndex: 10127 entries, 0 to 10126\n",
      "Data columns (total 27 columns):\n",
      " #   Column                    Non-Null Count  Dtype  \n",
      "---  ------                    --------------  -----  \n",
      " 0   CLIENTNUM                 10127 non-null  int64  \n",
      " 1   Attrition_Flag            10127 non-null  int64  \n",
      " 2   Customer_Age              10113 non-null  float64\n",
      " 3   Gender                    10127 non-null  object \n",
      " 4   Dependent_count           10127 non-null  int64  \n",
      " 5   Education_Level           10127 non-null  object \n",
      " 6   Marital_Status            10127 non-null  object \n",
      " 7   Income_Category           10127 non-null  object \n",
      " 8   Card_Category             10127 non-null  object \n",
      " 9   Months_on_book            10127 non-null  int64  \n",
      " 10  Total_Relationship_Count  10127 non-null  int64  \n",
      " 11  Months_Inactive_12_mon    10127 non-null  int64  \n",
      " 12  Contacts_Count_12_mon     10127 non-null  int64  \n",
      " 13  Credit_Limit              10123 non-null  float64\n",
      " 14  Total_Revolving_Bal       10127 non-null  int64  \n",
      " 15  Trans_Amt_Oct12           10127 non-null  int64  \n",
      " 16  Trans_Amt_Nov12           10127 non-null  int64  \n",
      " 17  Trans_Amt_Dec12           10127 non-null  int64  \n",
      " 18  Trans_Amt_Jan13           10127 non-null  int64  \n",
      " 19  Trans_Amt_Feb13           10127 non-null  int64  \n",
      " 20  Trans_Amt_Mar13           10127 non-null  int64  \n",
      " 21  Trans_Count_Oct12         10127 non-null  int64  \n",
      " 22  Trans_Count_Nov12         10127 non-null  int64  \n",
      " 23  Trans_Count_Dec12         10127 non-null  int64  \n",
      " 24  Trans_Count_Jan13         10127 non-null  int64  \n",
      " 25  Trans_Count_Feb13         10127 non-null  int64  \n",
      " 26  Trans_Count_Mar13         10127 non-null  int64  \n",
      "dtypes: float64(2), int64(20), object(5)\n",
      "memory usage: 2.1+ MB\n"
     ]
    }
   ],
   "source": [
    "data.info()"
   ]
  },
  {
   "cell_type": "code",
   "execution_count": 237,
   "id": "a782b0a1",
   "metadata": {},
   "outputs": [
    {
     "data": {
      "text/plain": [
       "CLIENTNUM                    0\n",
       "Attrition_Flag               0\n",
       "Customer_Age                14\n",
       "Gender                       0\n",
       "Dependent_count              0\n",
       "Education_Level              0\n",
       "Marital_Status               0\n",
       "Income_Category              0\n",
       "Card_Category                0\n",
       "Months_on_book               0\n",
       "Total_Relationship_Count     0\n",
       "Months_Inactive_12_mon       0\n",
       "Contacts_Count_12_mon        0\n",
       "Credit_Limit                 4\n",
       "Total_Revolving_Bal          0\n",
       "Trans_Amt_Oct12              0\n",
       "Trans_Amt_Nov12              0\n",
       "Trans_Amt_Dec12              0\n",
       "Trans_Amt_Jan13              0\n",
       "Trans_Amt_Feb13              0\n",
       "Trans_Amt_Mar13              0\n",
       "Trans_Count_Oct12            0\n",
       "Trans_Count_Nov12            0\n",
       "Trans_Count_Dec12            0\n",
       "Trans_Count_Jan13            0\n",
       "Trans_Count_Feb13            0\n",
       "Trans_Count_Mar13            0\n",
       "dtype: int64"
      ]
     },
     "execution_count": 237,
     "metadata": {},
     "output_type": "execute_result"
    }
   ],
   "source": [
    "data.isnull().sum()"
   ]
  },
  {
   "cell_type": "code",
   "execution_count": 238,
   "id": "09199ec5",
   "metadata": {},
   "outputs": [
    {
     "data": {
      "text/html": [
       "<div>\n",
       "<style scoped>\n",
       "    .dataframe tbody tr th:only-of-type {\n",
       "        vertical-align: middle;\n",
       "    }\n",
       "\n",
       "    .dataframe tbody tr th {\n",
       "        vertical-align: top;\n",
       "    }\n",
       "\n",
       "    .dataframe thead th {\n",
       "        text-align: right;\n",
       "    }\n",
       "</style>\n",
       "<table border=\"1\" class=\"dataframe\">\n",
       "  <thead>\n",
       "    <tr style=\"text-align: right;\">\n",
       "      <th></th>\n",
       "      <th>CLIENTNUM</th>\n",
       "      <th>Attrition_Flag</th>\n",
       "      <th>Customer_Age</th>\n",
       "      <th>Dependent_count</th>\n",
       "      <th>Months_on_book</th>\n",
       "      <th>Total_Relationship_Count</th>\n",
       "      <th>Months_Inactive_12_mon</th>\n",
       "      <th>Contacts_Count_12_mon</th>\n",
       "      <th>Credit_Limit</th>\n",
       "      <th>Total_Revolving_Bal</th>\n",
       "      <th>...</th>\n",
       "      <th>Trans_Amt_Dec12</th>\n",
       "      <th>Trans_Amt_Jan13</th>\n",
       "      <th>Trans_Amt_Feb13</th>\n",
       "      <th>Trans_Amt_Mar13</th>\n",
       "      <th>Trans_Count_Oct12</th>\n",
       "      <th>Trans_Count_Nov12</th>\n",
       "      <th>Trans_Count_Dec12</th>\n",
       "      <th>Trans_Count_Jan13</th>\n",
       "      <th>Trans_Count_Feb13</th>\n",
       "      <th>Trans_Count_Mar13</th>\n",
       "    </tr>\n",
       "  </thead>\n",
       "  <tbody>\n",
       "    <tr>\n",
       "      <th>count</th>\n",
       "      <td>1.012700e+04</td>\n",
       "      <td>10127.000000</td>\n",
       "      <td>10113.000000</td>\n",
       "      <td>10127.000000</td>\n",
       "      <td>10127.000000</td>\n",
       "      <td>10127.000000</td>\n",
       "      <td>10127.000000</td>\n",
       "      <td>10127.000000</td>\n",
       "      <td>10123.000000</td>\n",
       "      <td>10127.000000</td>\n",
       "      <td>...</td>\n",
       "      <td>10127.000000</td>\n",
       "      <td>10127.000000</td>\n",
       "      <td>10127.000000</td>\n",
       "      <td>10127.000000</td>\n",
       "      <td>10127.000000</td>\n",
       "      <td>10127.000000</td>\n",
       "      <td>10127.000000</td>\n",
       "      <td>10127.000000</td>\n",
       "      <td>10127.000000</td>\n",
       "      <td>10127.000000</td>\n",
       "    </tr>\n",
       "    <tr>\n",
       "      <th>mean</th>\n",
       "      <td>7.391776e+08</td>\n",
       "      <td>0.160660</td>\n",
       "      <td>46.326412</td>\n",
       "      <td>2.346203</td>\n",
       "      <td>35.928409</td>\n",
       "      <td>3.812580</td>\n",
       "      <td>2.341167</td>\n",
       "      <td>2.455317</td>\n",
       "      <td>9404.071817</td>\n",
       "      <td>1194.058951</td>\n",
       "      <td>...</td>\n",
       "      <td>861.019749</td>\n",
       "      <td>672.763405</td>\n",
       "      <td>609.424015</td>\n",
       "      <td>605.489582</td>\n",
       "      <td>12.713341</td>\n",
       "      <td>12.307100</td>\n",
       "      <td>13.104967</td>\n",
       "      <td>10.209835</td>\n",
       "      <td>7.354597</td>\n",
       "      <td>9.168856</td>\n",
       "    </tr>\n",
       "    <tr>\n",
       "      <th>std</th>\n",
       "      <td>3.690378e+07</td>\n",
       "      <td>0.367235</td>\n",
       "      <td>8.022353</td>\n",
       "      <td>1.298908</td>\n",
       "      <td>7.986416</td>\n",
       "      <td>1.554408</td>\n",
       "      <td>1.010622</td>\n",
       "      <td>1.106225</td>\n",
       "      <td>12283.599656</td>\n",
       "      <td>1073.368778</td>\n",
       "      <td>...</td>\n",
       "      <td>696.774222</td>\n",
       "      <td>592.881189</td>\n",
       "      <td>498.088308</td>\n",
       "      <td>489.841852</td>\n",
       "      <td>4.881924</td>\n",
       "      <td>5.540818</td>\n",
       "      <td>5.682993</td>\n",
       "      <td>3.892556</td>\n",
       "      <td>3.981386</td>\n",
       "      <td>4.477821</td>\n",
       "    </tr>\n",
       "    <tr>\n",
       "      <th>min</th>\n",
       "      <td>7.080821e+08</td>\n",
       "      <td>0.000000</td>\n",
       "      <td>26.000000</td>\n",
       "      <td>0.000000</td>\n",
       "      <td>13.000000</td>\n",
       "      <td>1.000000</td>\n",
       "      <td>0.000000</td>\n",
       "      <td>0.000000</td>\n",
       "      <td>398.000000</td>\n",
       "      <td>0.000000</td>\n",
       "      <td>...</td>\n",
       "      <td>0.000000</td>\n",
       "      <td>0.000000</td>\n",
       "      <td>0.000000</td>\n",
       "      <td>0.000000</td>\n",
       "      <td>0.000000</td>\n",
       "      <td>0.000000</td>\n",
       "      <td>0.000000</td>\n",
       "      <td>0.000000</td>\n",
       "      <td>0.000000</td>\n",
       "      <td>0.000000</td>\n",
       "    </tr>\n",
       "    <tr>\n",
       "      <th>25%</th>\n",
       "      <td>7.130368e+08</td>\n",
       "      <td>0.000000</td>\n",
       "      <td>41.000000</td>\n",
       "      <td>1.000000</td>\n",
       "      <td>31.000000</td>\n",
       "      <td>3.000000</td>\n",
       "      <td>2.000000</td>\n",
       "      <td>2.000000</td>\n",
       "      <td>2555.000000</td>\n",
       "      <td>359.000000</td>\n",
       "      <td>...</td>\n",
       "      <td>419.000000</td>\n",
       "      <td>309.000000</td>\n",
       "      <td>275.000000</td>\n",
       "      <td>272.000000</td>\n",
       "      <td>9.000000</td>\n",
       "      <td>9.000000</td>\n",
       "      <td>9.000000</td>\n",
       "      <td>8.000000</td>\n",
       "      <td>4.000000</td>\n",
       "      <td>6.000000</td>\n",
       "    </tr>\n",
       "    <tr>\n",
       "      <th>50%</th>\n",
       "      <td>7.179264e+08</td>\n",
       "      <td>0.000000</td>\n",
       "      <td>46.000000</td>\n",
       "      <td>2.000000</td>\n",
       "      <td>36.000000</td>\n",
       "      <td>4.000000</td>\n",
       "      <td>2.000000</td>\n",
       "      <td>2.000000</td>\n",
       "      <td>4549.000000</td>\n",
       "      <td>1276.000000</td>\n",
       "      <td>...</td>\n",
       "      <td>729.000000</td>\n",
       "      <td>516.000000</td>\n",
       "      <td>498.000000</td>\n",
       "      <td>514.000000</td>\n",
       "      <td>13.000000</td>\n",
       "      <td>13.000000</td>\n",
       "      <td>13.000000</td>\n",
       "      <td>10.000000</td>\n",
       "      <td>8.000000</td>\n",
       "      <td>10.000000</td>\n",
       "    </tr>\n",
       "    <tr>\n",
       "      <th>75%</th>\n",
       "      <td>7.731435e+08</td>\n",
       "      <td>0.000000</td>\n",
       "      <td>52.000000</td>\n",
       "      <td>3.000000</td>\n",
       "      <td>40.000000</td>\n",
       "      <td>5.000000</td>\n",
       "      <td>3.000000</td>\n",
       "      <td>3.000000</td>\n",
       "      <td>11072.500000</td>\n",
       "      <td>1784.000000</td>\n",
       "      <td>...</td>\n",
       "      <td>974.000000</td>\n",
       "      <td>764.000000</td>\n",
       "      <td>731.000000</td>\n",
       "      <td>706.000000</td>\n",
       "      <td>16.000000</td>\n",
       "      <td>16.000000</td>\n",
       "      <td>17.000000</td>\n",
       "      <td>13.000000</td>\n",
       "      <td>10.000000</td>\n",
       "      <td>12.000000</td>\n",
       "    </tr>\n",
       "    <tr>\n",
       "      <th>max</th>\n",
       "      <td>8.283431e+08</td>\n",
       "      <td>1.000000</td>\n",
       "      <td>73.000000</td>\n",
       "      <td>5.000000</td>\n",
       "      <td>56.000000</td>\n",
       "      <td>6.000000</td>\n",
       "      <td>6.000000</td>\n",
       "      <td>6.000000</td>\n",
       "      <td>180000.000000</td>\n",
       "      <td>40345.000000</td>\n",
       "      <td>...</td>\n",
       "      <td>4562.000000</td>\n",
       "      <td>3885.000000</td>\n",
       "      <td>3185.000000</td>\n",
       "      <td>3141.000000</td>\n",
       "      <td>31.000000</td>\n",
       "      <td>32.000000</td>\n",
       "      <td>34.000000</td>\n",
       "      <td>24.000000</td>\n",
       "      <td>21.000000</td>\n",
       "      <td>25.000000</td>\n",
       "    </tr>\n",
       "  </tbody>\n",
       "</table>\n",
       "<p>8 rows × 22 columns</p>\n",
       "</div>"
      ],
      "text/plain": [
       "          CLIENTNUM  Attrition_Flag  Customer_Age  Dependent_count  \\\n",
       "count  1.012700e+04    10127.000000  10113.000000     10127.000000   \n",
       "mean   7.391776e+08        0.160660     46.326412         2.346203   \n",
       "std    3.690378e+07        0.367235      8.022353         1.298908   \n",
       "min    7.080821e+08        0.000000     26.000000         0.000000   \n",
       "25%    7.130368e+08        0.000000     41.000000         1.000000   \n",
       "50%    7.179264e+08        0.000000     46.000000         2.000000   \n",
       "75%    7.731435e+08        0.000000     52.000000         3.000000   \n",
       "max    8.283431e+08        1.000000     73.000000         5.000000   \n",
       "\n",
       "       Months_on_book  Total_Relationship_Count  Months_Inactive_12_mon  \\\n",
       "count    10127.000000              10127.000000            10127.000000   \n",
       "mean        35.928409                  3.812580                2.341167   \n",
       "std          7.986416                  1.554408                1.010622   \n",
       "min         13.000000                  1.000000                0.000000   \n",
       "25%         31.000000                  3.000000                2.000000   \n",
       "50%         36.000000                  4.000000                2.000000   \n",
       "75%         40.000000                  5.000000                3.000000   \n",
       "max         56.000000                  6.000000                6.000000   \n",
       "\n",
       "       Contacts_Count_12_mon   Credit_Limit  Total_Revolving_Bal  ...  \\\n",
       "count           10127.000000   10123.000000         10127.000000  ...   \n",
       "mean                2.455317    9404.071817          1194.058951  ...   \n",
       "std                 1.106225   12283.599656          1073.368778  ...   \n",
       "min                 0.000000     398.000000             0.000000  ...   \n",
       "25%                 2.000000    2555.000000           359.000000  ...   \n",
       "50%                 2.000000    4549.000000          1276.000000  ...   \n",
       "75%                 3.000000   11072.500000          1784.000000  ...   \n",
       "max                 6.000000  180000.000000         40345.000000  ...   \n",
       "\n",
       "       Trans_Amt_Dec12  Trans_Amt_Jan13  Trans_Amt_Feb13  Trans_Amt_Mar13  \\\n",
       "count     10127.000000     10127.000000     10127.000000     10127.000000   \n",
       "mean        861.019749       672.763405       609.424015       605.489582   \n",
       "std         696.774222       592.881189       498.088308       489.841852   \n",
       "min           0.000000         0.000000         0.000000         0.000000   \n",
       "25%         419.000000       309.000000       275.000000       272.000000   \n",
       "50%         729.000000       516.000000       498.000000       514.000000   \n",
       "75%         974.000000       764.000000       731.000000       706.000000   \n",
       "max        4562.000000      3885.000000      3185.000000      3141.000000   \n",
       "\n",
       "       Trans_Count_Oct12  Trans_Count_Nov12  Trans_Count_Dec12  \\\n",
       "count       10127.000000       10127.000000       10127.000000   \n",
       "mean           12.713341          12.307100          13.104967   \n",
       "std             4.881924           5.540818           5.682993   \n",
       "min             0.000000           0.000000           0.000000   \n",
       "25%             9.000000           9.000000           9.000000   \n",
       "50%            13.000000          13.000000          13.000000   \n",
       "75%            16.000000          16.000000          17.000000   \n",
       "max            31.000000          32.000000          34.000000   \n",
       "\n",
       "       Trans_Count_Jan13  Trans_Count_Feb13  Trans_Count_Mar13  \n",
       "count       10127.000000       10127.000000       10127.000000  \n",
       "mean           10.209835           7.354597           9.168856  \n",
       "std             3.892556           3.981386           4.477821  \n",
       "min             0.000000           0.000000           0.000000  \n",
       "25%             8.000000           4.000000           6.000000  \n",
       "50%            10.000000           8.000000          10.000000  \n",
       "75%            13.000000          10.000000          12.000000  \n",
       "max            24.000000          21.000000          25.000000  \n",
       "\n",
       "[8 rows x 22 columns]"
      ]
     },
     "execution_count": 238,
     "metadata": {},
     "output_type": "execute_result"
    }
   ],
   "source": [
    "data.describe()"
   ]
  },
  {
   "cell_type": "markdown",
   "id": "f9ee3b3a",
   "metadata": {},
   "source": [
    "## Data Preprocessing "
   ]
  },
  {
   "cell_type": "code",
   "execution_count": 239,
   "id": "5bf1c4d5",
   "metadata": {},
   "outputs": [
    {
     "data": {
      "text/html": [
       "<div>\n",
       "<style scoped>\n",
       "    .dataframe tbody tr th:only-of-type {\n",
       "        vertical-align: middle;\n",
       "    }\n",
       "\n",
       "    .dataframe tbody tr th {\n",
       "        vertical-align: top;\n",
       "    }\n",
       "\n",
       "    .dataframe thead th {\n",
       "        text-align: right;\n",
       "    }\n",
       "</style>\n",
       "<table border=\"1\" class=\"dataframe\">\n",
       "  <thead>\n",
       "    <tr style=\"text-align: right;\">\n",
       "      <th></th>\n",
       "      <th>Attrition_Flag</th>\n",
       "      <th>Customer_Age</th>\n",
       "      <th>Gender</th>\n",
       "      <th>Dependent_count</th>\n",
       "      <th>Education_Level</th>\n",
       "      <th>Marital_Status</th>\n",
       "      <th>Income_Category</th>\n",
       "      <th>Card_Category</th>\n",
       "      <th>Months_on_book</th>\n",
       "      <th>Total_Relationship_Count</th>\n",
       "      <th>...</th>\n",
       "      <th>Trans_Amt_Dec12</th>\n",
       "      <th>Trans_Amt_Jan13</th>\n",
       "      <th>Trans_Amt_Feb13</th>\n",
       "      <th>Trans_Amt_Mar13</th>\n",
       "      <th>Trans_Count_Oct12</th>\n",
       "      <th>Trans_Count_Nov12</th>\n",
       "      <th>Trans_Count_Dec12</th>\n",
       "      <th>Trans_Count_Jan13</th>\n",
       "      <th>Trans_Count_Feb13</th>\n",
       "      <th>Trans_Count_Mar13</th>\n",
       "    </tr>\n",
       "  </thead>\n",
       "  <tbody>\n",
       "    <tr>\n",
       "      <th>0</th>\n",
       "      <td>0</td>\n",
       "      <td>45.0</td>\n",
       "      <td>M</td>\n",
       "      <td>3</td>\n",
       "      <td>High School</td>\n",
       "      <td>Married</td>\n",
       "      <td>$60K - $80K</td>\n",
       "      <td>Blue</td>\n",
       "      <td>39</td>\n",
       "      <td>5</td>\n",
       "      <td>...</td>\n",
       "      <td>253</td>\n",
       "      <td>196</td>\n",
       "      <td>196</td>\n",
       "      <td>262</td>\n",
       "      <td>0</td>\n",
       "      <td>7</td>\n",
       "      <td>9</td>\n",
       "      <td>12</td>\n",
       "      <td>7</td>\n",
       "      <td>7</td>\n",
       "    </tr>\n",
       "    <tr>\n",
       "      <th>1</th>\n",
       "      <td>0</td>\n",
       "      <td>49.0</td>\n",
       "      <td>F</td>\n",
       "      <td>5</td>\n",
       "      <td>Graduate</td>\n",
       "      <td>Single</td>\n",
       "      <td>Less than $40K</td>\n",
       "      <td>Blue</td>\n",
       "      <td>44</td>\n",
       "      <td>6</td>\n",
       "      <td>...</td>\n",
       "      <td>242</td>\n",
       "      <td>323</td>\n",
       "      <td>222</td>\n",
       "      <td>238</td>\n",
       "      <td>0</td>\n",
       "      <td>1</td>\n",
       "      <td>6</td>\n",
       "      <td>11</td>\n",
       "      <td>7</td>\n",
       "      <td>8</td>\n",
       "    </tr>\n",
       "    <tr>\n",
       "      <th>2</th>\n",
       "      <td>0</td>\n",
       "      <td>51.0</td>\n",
       "      <td>M</td>\n",
       "      <td>3</td>\n",
       "      <td>Graduate</td>\n",
       "      <td>Married</td>\n",
       "      <td>$80K - $120K</td>\n",
       "      <td>Blue</td>\n",
       "      <td>36</td>\n",
       "      <td>4</td>\n",
       "      <td>...</td>\n",
       "      <td>330</td>\n",
       "      <td>967</td>\n",
       "      <td>213</td>\n",
       "      <td>182</td>\n",
       "      <td>0</td>\n",
       "      <td>1</td>\n",
       "      <td>5</td>\n",
       "      <td>5</td>\n",
       "      <td>4</td>\n",
       "      <td>5</td>\n",
       "    </tr>\n",
       "    <tr>\n",
       "      <th>3</th>\n",
       "      <td>0</td>\n",
       "      <td>40.0</td>\n",
       "      <td>F</td>\n",
       "      <td>4</td>\n",
       "      <td>High School</td>\n",
       "      <td>Unknown</td>\n",
       "      <td>Less than $40K</td>\n",
       "      <td>Blue</td>\n",
       "      <td>34</td>\n",
       "      <td>3</td>\n",
       "      <td>...</td>\n",
       "      <td>166</td>\n",
       "      <td>184</td>\n",
       "      <td>285</td>\n",
       "      <td>215</td>\n",
       "      <td>0</td>\n",
       "      <td>4</td>\n",
       "      <td>2</td>\n",
       "      <td>5</td>\n",
       "      <td>2</td>\n",
       "      <td>7</td>\n",
       "    </tr>\n",
       "    <tr>\n",
       "      <th>4</th>\n",
       "      <td>0</td>\n",
       "      <td>40.0</td>\n",
       "      <td>M</td>\n",
       "      <td>3</td>\n",
       "      <td>Uneducated</td>\n",
       "      <td>Married</td>\n",
       "      <td>$60K - $80K</td>\n",
       "      <td>Blue</td>\n",
       "      <td>21</td>\n",
       "      <td>5</td>\n",
       "      <td>...</td>\n",
       "      <td>149</td>\n",
       "      <td>192</td>\n",
       "      <td>88</td>\n",
       "      <td>279</td>\n",
       "      <td>0</td>\n",
       "      <td>1</td>\n",
       "      <td>7</td>\n",
       "      <td>9</td>\n",
       "      <td>5</td>\n",
       "      <td>6</td>\n",
       "    </tr>\n",
       "    <tr>\n",
       "      <th>...</th>\n",
       "      <td>...</td>\n",
       "      <td>...</td>\n",
       "      <td>...</td>\n",
       "      <td>...</td>\n",
       "      <td>...</td>\n",
       "      <td>...</td>\n",
       "      <td>...</td>\n",
       "      <td>...</td>\n",
       "      <td>...</td>\n",
       "      <td>...</td>\n",
       "      <td>...</td>\n",
       "      <td>...</td>\n",
       "      <td>...</td>\n",
       "      <td>...</td>\n",
       "      <td>...</td>\n",
       "      <td>...</td>\n",
       "      <td>...</td>\n",
       "      <td>...</td>\n",
       "      <td>...</td>\n",
       "      <td>...</td>\n",
       "      <td>...</td>\n",
       "    </tr>\n",
       "    <tr>\n",
       "      <th>10122</th>\n",
       "      <td>0</td>\n",
       "      <td>50.0</td>\n",
       "      <td>M</td>\n",
       "      <td>2</td>\n",
       "      <td>Graduate</td>\n",
       "      <td>Single</td>\n",
       "      <td>$40K - $60K</td>\n",
       "      <td>Blue</td>\n",
       "      <td>40</td>\n",
       "      <td>3</td>\n",
       "      <td>...</td>\n",
       "      <td>2462</td>\n",
       "      <td>2439</td>\n",
       "      <td>1556</td>\n",
       "      <td>2391</td>\n",
       "      <td>26</td>\n",
       "      <td>19</td>\n",
       "      <td>18</td>\n",
       "      <td>18</td>\n",
       "      <td>18</td>\n",
       "      <td>18</td>\n",
       "    </tr>\n",
       "    <tr>\n",
       "      <th>10123</th>\n",
       "      <td>1</td>\n",
       "      <td>41.0</td>\n",
       "      <td>M</td>\n",
       "      <td>2</td>\n",
       "      <td>Unknown</td>\n",
       "      <td>Divorced</td>\n",
       "      <td>$40K - $60K</td>\n",
       "      <td>Blue</td>\n",
       "      <td>25</td>\n",
       "      <td>4</td>\n",
       "      <td>...</td>\n",
       "      <td>1266</td>\n",
       "      <td>1197</td>\n",
       "      <td>1345</td>\n",
       "      <td>1363</td>\n",
       "      <td>15</td>\n",
       "      <td>13</td>\n",
       "      <td>13</td>\n",
       "      <td>9</td>\n",
       "      <td>9</td>\n",
       "      <td>10</td>\n",
       "    </tr>\n",
       "    <tr>\n",
       "      <th>10124</th>\n",
       "      <td>1</td>\n",
       "      <td>44.0</td>\n",
       "      <td>F</td>\n",
       "      <td>1</td>\n",
       "      <td>High School</td>\n",
       "      <td>Married</td>\n",
       "      <td>Less than $40K</td>\n",
       "      <td>Blue</td>\n",
       "      <td>36</td>\n",
       "      <td>5</td>\n",
       "      <td>...</td>\n",
       "      <td>1631</td>\n",
       "      <td>1933</td>\n",
       "      <td>1527</td>\n",
       "      <td>1174</td>\n",
       "      <td>9</td>\n",
       "      <td>12</td>\n",
       "      <td>12</td>\n",
       "      <td>9</td>\n",
       "      <td>6</td>\n",
       "      <td>12</td>\n",
       "    </tr>\n",
       "    <tr>\n",
       "      <th>10125</th>\n",
       "      <td>1</td>\n",
       "      <td>30.0</td>\n",
       "      <td>M</td>\n",
       "      <td>2</td>\n",
       "      <td>Graduate</td>\n",
       "      <td>Unknown</td>\n",
       "      <td>$40K - $60K</td>\n",
       "      <td>Blue</td>\n",
       "      <td>36</td>\n",
       "      <td>4</td>\n",
       "      <td>...</td>\n",
       "      <td>1596</td>\n",
       "      <td>1422</td>\n",
       "      <td>891</td>\n",
       "      <td>614</td>\n",
       "      <td>14</td>\n",
       "      <td>13</td>\n",
       "      <td>9</td>\n",
       "      <td>15</td>\n",
       "      <td>2</td>\n",
       "      <td>9</td>\n",
       "    </tr>\n",
       "    <tr>\n",
       "      <th>10126</th>\n",
       "      <td>1</td>\n",
       "      <td>43.0</td>\n",
       "      <td>F</td>\n",
       "      <td>2</td>\n",
       "      <td>Graduate</td>\n",
       "      <td>Married</td>\n",
       "      <td>Less than $40K</td>\n",
       "      <td>Silver</td>\n",
       "      <td>25</td>\n",
       "      <td>6</td>\n",
       "      <td>...</td>\n",
       "      <td>1892</td>\n",
       "      <td>1434</td>\n",
       "      <td>1408</td>\n",
       "      <td>1408</td>\n",
       "      <td>9</td>\n",
       "      <td>14</td>\n",
       "      <td>14</td>\n",
       "      <td>6</td>\n",
       "      <td>9</td>\n",
       "      <td>9</td>\n",
       "    </tr>\n",
       "  </tbody>\n",
       "</table>\n",
       "<p>10127 rows × 26 columns</p>\n",
       "</div>"
      ],
      "text/plain": [
       "       Attrition_Flag  Customer_Age Gender  Dependent_count Education_Level  \\\n",
       "0                   0          45.0      M                3     High School   \n",
       "1                   0          49.0      F                5        Graduate   \n",
       "2                   0          51.0      M                3        Graduate   \n",
       "3                   0          40.0      F                4     High School   \n",
       "4                   0          40.0      M                3      Uneducated   \n",
       "...               ...           ...    ...              ...             ...   \n",
       "10122               0          50.0      M                2        Graduate   \n",
       "10123               1          41.0      M                2         Unknown   \n",
       "10124               1          44.0      F                1     High School   \n",
       "10125               1          30.0      M                2        Graduate   \n",
       "10126               1          43.0      F                2        Graduate   \n",
       "\n",
       "      Marital_Status Income_Category Card_Category  Months_on_book  \\\n",
       "0            Married     $60K - $80K          Blue              39   \n",
       "1             Single  Less than $40K          Blue              44   \n",
       "2            Married    $80K - $120K          Blue              36   \n",
       "3            Unknown  Less than $40K          Blue              34   \n",
       "4            Married     $60K - $80K          Blue              21   \n",
       "...              ...             ...           ...             ...   \n",
       "10122         Single     $40K - $60K          Blue              40   \n",
       "10123       Divorced     $40K - $60K          Blue              25   \n",
       "10124        Married  Less than $40K          Blue              36   \n",
       "10125        Unknown     $40K - $60K          Blue              36   \n",
       "10126        Married  Less than $40K        Silver              25   \n",
       "\n",
       "       Total_Relationship_Count  ...  Trans_Amt_Dec12  Trans_Amt_Jan13  \\\n",
       "0                             5  ...              253              196   \n",
       "1                             6  ...              242              323   \n",
       "2                             4  ...              330              967   \n",
       "3                             3  ...              166              184   \n",
       "4                             5  ...              149              192   \n",
       "...                         ...  ...              ...              ...   \n",
       "10122                         3  ...             2462             2439   \n",
       "10123                         4  ...             1266             1197   \n",
       "10124                         5  ...             1631             1933   \n",
       "10125                         4  ...             1596             1422   \n",
       "10126                         6  ...             1892             1434   \n",
       "\n",
       "       Trans_Amt_Feb13  Trans_Amt_Mar13  Trans_Count_Oct12  Trans_Count_Nov12  \\\n",
       "0                  196              262                  0                  7   \n",
       "1                  222              238                  0                  1   \n",
       "2                  213              182                  0                  1   \n",
       "3                  285              215                  0                  4   \n",
       "4                   88              279                  0                  1   \n",
       "...                ...              ...                ...                ...   \n",
       "10122             1556             2391                 26                 19   \n",
       "10123             1345             1363                 15                 13   \n",
       "10124             1527             1174                  9                 12   \n",
       "10125              891              614                 14                 13   \n",
       "10126             1408             1408                  9                 14   \n",
       "\n",
       "       Trans_Count_Dec12  Trans_Count_Jan13  Trans_Count_Feb13  \\\n",
       "0                      9                 12                  7   \n",
       "1                      6                 11                  7   \n",
       "2                      5                  5                  4   \n",
       "3                      2                  5                  2   \n",
       "4                      7                  9                  5   \n",
       "...                  ...                ...                ...   \n",
       "10122                 18                 18                 18   \n",
       "10123                 13                  9                  9   \n",
       "10124                 12                  9                  6   \n",
       "10125                  9                 15                  2   \n",
       "10126                 14                  6                  9   \n",
       "\n",
       "       Trans_Count_Mar13  \n",
       "0                      7  \n",
       "1                      8  \n",
       "2                      5  \n",
       "3                      7  \n",
       "4                      6  \n",
       "...                  ...  \n",
       "10122                 18  \n",
       "10123                 10  \n",
       "10124                 12  \n",
       "10125                  9  \n",
       "10126                  9  \n",
       "\n",
       "[10127 rows x 26 columns]"
      ]
     },
     "execution_count": 239,
     "metadata": {},
     "output_type": "execute_result"
    }
   ],
   "source": [
    "data.drop('CLIENTNUM',axis = 1,inplace =True)\n",
    "data   "
   ]
  },
  {
   "cell_type": "code",
   "execution_count": 240,
   "id": "1ba580f8",
   "metadata": {},
   "outputs": [
    {
     "data": {
      "text/plain": [
       "array([0, 1], dtype=int64)"
      ]
     },
     "execution_count": 240,
     "metadata": {},
     "output_type": "execute_result"
    }
   ],
   "source": [
    "data['Attrition_Flag'].unique()"
   ]
  },
  {
   "cell_type": "code",
   "execution_count": 241,
   "id": "96d384d8",
   "metadata": {},
   "outputs": [
    {
     "data": {
      "text/plain": [
       "10113"
      ]
     },
     "execution_count": 241,
     "metadata": {},
     "output_type": "execute_result"
    }
   ],
   "source": [
    "#customer_age\n",
    "data.Customer_Age.count()"
   ]
  },
  {
   "cell_type": "code",
   "execution_count": 242,
   "id": "4024a88b",
   "metadata": {},
   "outputs": [
    {
     "data": {
      "text/plain": [
       "count    10113.000000\n",
       "mean        46.326412\n",
       "std          8.022353\n",
       "min         26.000000\n",
       "25%         41.000000\n",
       "50%         46.000000\n",
       "75%         52.000000\n",
       "max         73.000000\n",
       "Name: Customer_Age, dtype: float64"
      ]
     },
     "execution_count": 242,
     "metadata": {},
     "output_type": "execute_result"
    }
   ],
   "source": [
    "data.Customer_Age.describe()"
   ]
  },
  {
   "cell_type": "code",
   "execution_count": 243,
   "id": "2fedc526",
   "metadata": {},
   "outputs": [
    {
     "data": {
      "text/plain": [
       "14"
      ]
     },
     "execution_count": 243,
     "metadata": {},
     "output_type": "execute_result"
    }
   ],
   "source": [
    "data.Customer_Age.isnull().sum()"
   ]
  },
  {
   "cell_type": "code",
   "execution_count": 244,
   "id": "864e7722",
   "metadata": {},
   "outputs": [],
   "source": [
    "data['Customer_Age'].fillna(data['Customer_Age'].mean(),inplace = True)\n",
    "#data.Customer_Age.isnull().sum()"
   ]
  },
  {
   "cell_type": "code",
   "execution_count": 245,
   "id": "e4c0655d",
   "metadata": {},
   "outputs": [
    {
     "data": {
      "text/plain": [
       "<AxesSubplot:xlabel='Attrition_Flag', ylabel='count'>"
      ]
     },
     "execution_count": 245,
     "metadata": {},
     "output_type": "execute_result"
    },
    {
     "data": {
      "image/png": "[encoded data removed]",
      "text/plain": [
       "<Figure size 432x288 with 1 Axes>"
      ]
     },
     "metadata": {
      "needs_background": "light"
     },
     "output_type": "display_data"
    }
   ],
   "source": [
    "#Gender\n",
    "data['Gender'].value_counts()\n",
    "sns.countplot(x ='Attrition_Flag',hue ='Gender',  data = data)"
   ]
  },
  {
   "cell_type": "code",
   "execution_count": 246,
   "id": "ab8f0901",
   "metadata": {},
   "outputs": [
    {
     "data": {
      "text/plain": [
       "3    2732\n",
       "2    2655\n",
       "1    1838\n",
       "4    1574\n",
       "0     904\n",
       "5     424\n",
       "Name: Dependent_count, dtype: int64"
      ]
     },
     "execution_count": 246,
     "metadata": {},
     "output_type": "execute_result"
    }
   ],
   "source": [
    "#Dependent count\n",
    "data.Dependent_count.value_counts()"
   ]
  },
  {
   "cell_type": "code",
   "execution_count": 247,
   "id": "d286cfbc",
   "metadata": {},
   "outputs": [
    {
     "data": {
      "text/plain": [
       "Graduate         3128\n",
       "High School      2013\n",
       "Unknown          1519\n",
       "Uneducated       1487\n",
       "College          1013\n",
       "Post-Graduate     516\n",
       "Doctorate         451\n",
       "Name: Education_Level, dtype: int64"
      ]
     },
     "execution_count": 247,
     "metadata": {},
     "output_type": "execute_result"
    }
   ],
   "source": [
    "#Education_level\n",
    "data.Education_Level.value_counts()"
   ]
  },
  {
   "cell_type": "code",
   "execution_count": 248,
   "id": "8d841e03",
   "metadata": {},
   "outputs": [],
   "source": [
    "#As we can see there is unknown data so we can replace it with graduate one.\n",
    "\n",
    "data[\"Education_Level\"].replace({\"Unknown\":np.NaN}, inplace=True)\n",
    "data.Education_Level = data.Education_Level.fillna('Graduate')"
   ]
  },
  {
   "cell_type": "code",
   "execution_count": 249,
   "id": "f2685df7",
   "metadata": {},
   "outputs": [
    {
     "data": {
      "text/plain": [
       "<AxesSubplot:xlabel='Education_Level', ylabel='count'>"
      ]
     },
     "execution_count": 249,
     "metadata": {},
     "output_type": "execute_result"
    },
    {
     "data": {
      "image/png": "[encoded data removed]",
      "text/plain": [
       "<Figure size 720x360 with 1 Axes>"
      ]
     },
     "metadata": {
      "needs_background": "light"
     },
     "output_type": "display_data"
    }
   ],
   "source": [
    "fig = plt.figure(figsize=(10,5))\n",
    "sns.countplot(x = 'Education_Level',hue = 'Attrition_Flag',data =data)"
   ]
  },
  {
   "cell_type": "code",
   "execution_count": 250,
   "id": "7bb134f0",
   "metadata": {},
   "outputs": [
    {
     "data": {
      "text/plain": [
       "Married     4687\n",
       "Single      3943\n",
       "Unknown      749\n",
       "Divorced     748\n",
       "Name: Marital_Status, dtype: int64"
      ]
     },
     "execution_count": 250,
     "metadata": {},
     "output_type": "execute_result"
    }
   ],
   "source": [
    "#Marital status\n",
    "data.Marital_Status.value_counts()"
   ]
  },
  {
   "cell_type": "code",
   "execution_count": 251,
   "id": "ae80337d",
   "metadata": {},
   "outputs": [
    {
     "data": {
      "text/plain": [
       "<AxesSubplot:xlabel='Marital_Status', ylabel='count'>"
      ]
     },
     "execution_count": 251,
     "metadata": {},
     "output_type": "execute_result"
    },
    {
     "data": {
      "image/png": "[encoded data removed]",
      "text/plain": [
       "<Figure size 720x360 with 1 Axes>"
      ]
     },
     "metadata": {
      "needs_background": "light"
     },
     "output_type": "display_data"
    }
   ],
   "source": [
    "fig = plt.figure(figsize=(10,5))\n",
    "sns.countplot(x = 'Marital_Status',hue = 'Attrition_Flag',data =data)"
   ]
  },
  {
   "cell_type": "code",
   "execution_count": 252,
   "id": "6b6de357",
   "metadata": {},
   "outputs": [
    {
     "data": {
      "text/plain": [
       "Less than $40K    3561\n",
       "$40K - $60K       1790\n",
       "$80K - $120K      1535\n",
       "$60K - $80K       1402\n",
       "Unknown           1112\n",
       "$120K +            727\n",
       "Name: Income_Category, dtype: int64"
      ]
     },
     "execution_count": 252,
     "metadata": {},
     "output_type": "execute_result"
    }
   ],
   "source": [
    "#Income_Category\n",
    "data.Income_Category.value_counts()"
   ]
  },
  {
   "cell_type": "code",
   "execution_count": 253,
   "id": "26388b1a",
   "metadata": {},
   "outputs": [
    {
     "data": {
      "text/plain": [
       "<AxesSubplot:xlabel='Income_Category', ylabel='count'>"
      ]
     },
     "execution_count": 253,
     "metadata": {},
     "output_type": "execute_result"
    },
    {
     "data": {
      "image/png": "[encoded data removed]",
      "text/plain": [
       "<Figure size 720x360 with 1 Axes>"
      ]
     },
     "metadata": {
      "needs_background": "light"
     },
     "output_type": "display_data"
    }
   ],
   "source": [
    "fig = plt.figure(figsize=(10,5))\n",
    "sns.countplot(x = 'Income_Category',hue = 'Attrition_Flag',data =data)"
   ]
  },
  {
   "cell_type": "code",
   "execution_count": 254,
   "id": "fe08c4be",
   "metadata": {},
   "outputs": [
    {
     "data": {
      "text/plain": [
       "Blue        9436\n",
       "Silver       555\n",
       "Gold         116\n",
       "Platinum      20\n",
       "Name: Card_Category, dtype: int64"
      ]
     },
     "execution_count": 254,
     "metadata": {},
     "output_type": "execute_result"
    }
   ],
   "source": [
    "#Card_Category\n",
    "data.Card_Category.value_counts()"
   ]
  },
  {
   "cell_type": "code",
   "execution_count": 255,
   "id": "63dd8a66",
   "metadata": {},
   "outputs": [
    {
     "data": {
      "text/plain": [
       "<AxesSubplot:xlabel='Card_Category', ylabel='count'>"
      ]
     },
     "execution_count": 255,
     "metadata": {},
     "output_type": "execute_result"
    },
    {
     "data": {
      "image/png": "[encoded data removed]",
      "text/plain": [
       "<Figure size 720x360 with 1 Axes>"
      ]
     },
     "metadata": {
      "needs_background": "light"
     },
     "output_type": "display_data"
    }
   ],
   "source": [
    "fig = plt.figure(figsize=(10,5))\n",
    "sns.countplot(x = 'Card_Category',hue = 'Attrition_Flag',data =data)"
   ]
  },
  {
   "cell_type": "code",
   "execution_count": 256,
   "id": "01cb5497",
   "metadata": {},
   "outputs": [
    {
     "data": {
      "text/plain": [
       "count     10123.000000\n",
       "mean       9404.071817\n",
       "std       12283.599656\n",
       "min         398.000000\n",
       "25%        2555.000000\n",
       "50%        4549.000000\n",
       "75%       11072.500000\n",
       "max      180000.000000\n",
       "Name: Credit_Limit, dtype: float64"
      ]
     },
     "execution_count": 256,
     "metadata": {},
     "output_type": "execute_result"
    }
   ],
   "source": [
    "#Credit_Limit\n",
    "data.Credit_Limit.describe()"
   ]
  },
  {
   "cell_type": "code",
   "execution_count": 291,
   "id": "27681b1d",
   "metadata": {},
   "outputs": [],
   "source": [
    "data['Credit_Limit'].fillna(data['Credit_Limit'].mean(),inplace = True)"
   ]
  },
  {
   "cell_type": "code",
   "execution_count": 257,
   "id": "a24b1afe",
   "metadata": {},
   "outputs": [],
   "source": [
    "#Adding all Transaction amount in 6 months\n",
    "data['Six_Months_Trans_Amt'] = data.Trans_Amt_Oct12 + data.Trans_Amt_Nov12 + data.Trans_Amt_Dec12 + data.Trans_Amt_Jan13 + data.Trans_Amt_Feb13 + data.Trans_Amt_Mar13\n",
    "\n"
   ]
  },
  {
   "cell_type": "code",
   "execution_count": 258,
   "id": "b59e72b7",
   "metadata": {},
   "outputs": [],
   "source": [
    "data['Six_Months_Trans_Count'] = data.Trans_Count_Oct12 + data.Trans_Count_Nov12 + data.Trans_Count_Dec12 + data.Trans_Count_Jan13 + data.Trans_Count_Feb13 + data.Trans_Count_Mar13"
   ]
  },
  {
   "cell_type": "code",
   "execution_count": 259,
   "id": "6f005ba6",
   "metadata": {},
   "outputs": [],
   "source": [
    "data.drop(['Trans_Amt_Oct12','Trans_Amt_Nov12','Trans_Amt_Dec12','Trans_Amt_Jan13','Trans_Amt_Feb13','Trans_Amt_Mar13'\n",
    "              ,'Trans_Count_Oct12','Trans_Count_Nov12','Trans_Count_Dec12','Trans_Count_Jan13',\n",
    "              'Trans_Count_Feb13','Trans_Count_Mar13'], axis = 1,inplace = True)"
   ]
  },
  {
   "cell_type": "code",
   "execution_count": 260,
   "id": "549735fd",
   "metadata": {},
   "outputs": [
    {
     "data": {
      "text/html": [
       "<div>\n",
       "<style scoped>\n",
       "    .dataframe tbody tr th:only-of-type {\n",
       "        vertical-align: middle;\n",
       "    }\n",
       "\n",
       "    .dataframe tbody tr th {\n",
       "        vertical-align: top;\n",
       "    }\n",
       "\n",
       "    .dataframe thead th {\n",
       "        text-align: right;\n",
       "    }\n",
       "</style>\n",
       "<table border=\"1\" class=\"dataframe\">\n",
       "  <thead>\n",
       "    <tr style=\"text-align: right;\">\n",
       "      <th></th>\n",
       "      <th>Attrition_Flag</th>\n",
       "      <th>Customer_Age</th>\n",
       "      <th>Gender</th>\n",
       "      <th>Dependent_count</th>\n",
       "      <th>Education_Level</th>\n",
       "      <th>Marital_Status</th>\n",
       "      <th>Income_Category</th>\n",
       "      <th>Card_Category</th>\n",
       "      <th>Months_on_book</th>\n",
       "      <th>Total_Relationship_Count</th>\n",
       "      <th>Months_Inactive_12_mon</th>\n",
       "      <th>Contacts_Count_12_mon</th>\n",
       "      <th>Credit_Limit</th>\n",
       "      <th>Total_Revolving_Bal</th>\n",
       "      <th>Six_Months_Trans_Amt</th>\n",
       "      <th>Six_Months_Trans_Count</th>\n",
       "    </tr>\n",
       "  </thead>\n",
       "  <tbody>\n",
       "    <tr>\n",
       "      <th>0</th>\n",
       "      <td>0</td>\n",
       "      <td>45.0</td>\n",
       "      <td>M</td>\n",
       "      <td>3</td>\n",
       "      <td>High School</td>\n",
       "      <td>Married</td>\n",
       "      <td>$60K - $80K</td>\n",
       "      <td>Blue</td>\n",
       "      <td>39</td>\n",
       "      <td>5</td>\n",
       "      <td>1</td>\n",
       "      <td>3</td>\n",
       "      <td>12691.0</td>\n",
       "      <td>777</td>\n",
       "      <td>1144</td>\n",
       "      <td>42</td>\n",
       "    </tr>\n",
       "    <tr>\n",
       "      <th>1</th>\n",
       "      <td>0</td>\n",
       "      <td>49.0</td>\n",
       "      <td>F</td>\n",
       "      <td>5</td>\n",
       "      <td>Graduate</td>\n",
       "      <td>Single</td>\n",
       "      <td>Less than $40K</td>\n",
       "      <td>Blue</td>\n",
       "      <td>44</td>\n",
       "      <td>6</td>\n",
       "      <td>1</td>\n",
       "      <td>2</td>\n",
       "      <td>8256.0</td>\n",
       "      <td>864</td>\n",
       "      <td>1291</td>\n",
       "      <td>33</td>\n",
       "    </tr>\n",
       "    <tr>\n",
       "      <th>2</th>\n",
       "      <td>0</td>\n",
       "      <td>51.0</td>\n",
       "      <td>M</td>\n",
       "      <td>3</td>\n",
       "      <td>Graduate</td>\n",
       "      <td>Married</td>\n",
       "      <td>$80K - $120K</td>\n",
       "      <td>Blue</td>\n",
       "      <td>36</td>\n",
       "      <td>4</td>\n",
       "      <td>1</td>\n",
       "      <td>0</td>\n",
       "      <td>3418.0</td>\n",
       "      <td>0</td>\n",
       "      <td>1887</td>\n",
       "      <td>20</td>\n",
       "    </tr>\n",
       "    <tr>\n",
       "      <th>3</th>\n",
       "      <td>0</td>\n",
       "      <td>40.0</td>\n",
       "      <td>F</td>\n",
       "      <td>4</td>\n",
       "      <td>High School</td>\n",
       "      <td>Unknown</td>\n",
       "      <td>Less than $40K</td>\n",
       "      <td>Blue</td>\n",
       "      <td>34</td>\n",
       "      <td>3</td>\n",
       "      <td>4</td>\n",
       "      <td>1</td>\n",
       "      <td>3313.0</td>\n",
       "      <td>2661</td>\n",
       "      <td>1171</td>\n",
       "      <td>20</td>\n",
       "    </tr>\n",
       "    <tr>\n",
       "      <th>4</th>\n",
       "      <td>0</td>\n",
       "      <td>40.0</td>\n",
       "      <td>M</td>\n",
       "      <td>3</td>\n",
       "      <td>Uneducated</td>\n",
       "      <td>Married</td>\n",
       "      <td>$60K - $80K</td>\n",
       "      <td>Blue</td>\n",
       "      <td>21</td>\n",
       "      <td>5</td>\n",
       "      <td>1</td>\n",
       "      <td>0</td>\n",
       "      <td>4716.0</td>\n",
       "      <td>0</td>\n",
       "      <td>816</td>\n",
       "      <td>28</td>\n",
       "    </tr>\n",
       "  </tbody>\n",
       "</table>\n",
       "</div>"
      ],
      "text/plain": [
       "   Attrition_Flag  Customer_Age Gender  Dependent_count Education_Level  \\\n",
       "0               0          45.0      M                3     High School   \n",
       "1               0          49.0      F                5        Graduate   \n",
       "2               0          51.0      M                3        Graduate   \n",
       "3               0          40.0      F                4     High School   \n",
       "4               0          40.0      M                3      Uneducated   \n",
       "\n",
       "  Marital_Status Income_Category Card_Category  Months_on_book  \\\n",
       "0        Married     $60K - $80K          Blue              39   \n",
       "1         Single  Less than $40K          Blue              44   \n",
       "2        Married    $80K - $120K          Blue              36   \n",
       "3        Unknown  Less than $40K          Blue              34   \n",
       "4        Married     $60K - $80K          Blue              21   \n",
       "\n",
       "   Total_Relationship_Count  Months_Inactive_12_mon  Contacts_Count_12_mon  \\\n",
       "0                         5                       1                      3   \n",
       "1                         6                       1                      2   \n",
       "2                         4                       1                      0   \n",
       "3                         3                       4                      1   \n",
       "4                         5                       1                      0   \n",
       "\n",
       "   Credit_Limit  Total_Revolving_Bal  Six_Months_Trans_Amt  \\\n",
       "0       12691.0                  777                  1144   \n",
       "1        8256.0                  864                  1291   \n",
       "2        3418.0                    0                  1887   \n",
       "3        3313.0                 2661                  1171   \n",
       "4        4716.0                    0                   816   \n",
       "\n",
       "   Six_Months_Trans_Count  \n",
       "0                      42  \n",
       "1                      33  \n",
       "2                      20  \n",
       "3                      20  \n",
       "4                      28  "
      ]
     },
     "execution_count": 260,
     "metadata": {},
     "output_type": "execute_result"
    }
   ],
   "source": [
    "data.head(5)"
   ]
  },
  {
   "cell_type": "markdown",
   "id": "67f5e081",
   "metadata": {},
   "source": [
    "## Detecting Outlier"
   ]
  },
  {
   "cell_type": "code",
   "execution_count": 327,
   "id": "c5c82a78",
   "metadata": {},
   "outputs": [],
   "source": [
    "#using IQR for \n",
    "\n",
    "def Outliers_IQR(dt):\n",
    "    q1, q3 = np.percentile(dt, [25, 75])\n",
    "    IQR_x = q3 - q1\n",
    "    lower_limit = q1 - (IQR_x * 1.5)\n",
    "    upper_limit = q3 + (IQR_x * 1.5)\n",
    "    sns.boxplot(x = dt.index, data=dt,color=\".25\")"
   ]
  },
  {
   "cell_type": "code",
   "execution_count": 328,
   "id": "f0f13b59",
   "metadata": {},
   "outputs": [
    {
     "data": {
      "text/plain": [
       "(33.0, 65.0)"
      ]
     },
     "execution_count": 328,
     "metadata": {},
     "output_type": "execute_result"
    },
    {
     "data": {
      "image/png": "[encoded data removed]",
      "text/plain": [
       "<Figure size 432x288 with 1 Axes>"
      ]
     },
     "metadata": {
      "needs_background": "light"
     },
     "output_type": "display_data"
    }
   ],
   "source": [
    "Outliers_IQR(data['Customer_Age'])\n",
    "min_threshold, max_threshold = data.Customer_Age.quantile([0.05,0.99])\n",
    "min_threshold, max_threshold"
   ]
  },
  {
   "cell_type": "code",
   "execution_count": 329,
   "id": "3925c8c3",
   "metadata": {},
   "outputs": [
    {
     "data": {
      "text/plain": [
       "count    10127.000000\n",
       "mean         2.346203\n",
       "std          1.298908\n",
       "min          0.000000\n",
       "25%          1.000000\n",
       "50%          2.000000\n",
       "75%          3.000000\n",
       "max          5.000000\n",
       "Name: Dependent_count, dtype: float64"
      ]
     },
     "execution_count": 329,
     "metadata": {},
     "output_type": "execute_result"
    }
   ],
   "source": [
    "data.Dependent_count.describe()"
   ]
  },
  {
   "cell_type": "code",
   "execution_count": 330,
   "id": "41267daf",
   "metadata": {},
   "outputs": [
    {
     "data": {
      "text/plain": [
       "(0.0, 5.0)"
      ]
     },
     "execution_count": 330,
     "metadata": {},
     "output_type": "execute_result"
    },
    {
     "data": {
      "image/png": "[encoded data removed]",
      "text/plain": [
       "<Figure size 432x288 with 1 Axes>"
      ]
     },
     "metadata": {
      "needs_background": "light"
     },
     "output_type": "display_data"
    }
   ],
   "source": [
    "Outliers_IQR(data['Dependent_count'])\n",
    "min_threshold, max_threshold = data.Dependent_count.quantile([0.05,0.99])\n",
    "min_threshold, max_threshold"
   ]
  },
  {
   "cell_type": "code",
   "execution_count": 331,
   "id": "8c9f5b75",
   "metadata": {},
   "outputs": [
    {
     "data": {
      "text/plain": [
       "(22.0, 56.0)"
      ]
     },
     "execution_count": 331,
     "metadata": {},
     "output_type": "execute_result"
    },
    {
     "data": {
      "image/png": "[encoded data removed]",
      "text/plain": [
       "<Figure size 432x288 with 1 Axes>"
      ]
     },
     "metadata": {
      "needs_background": "light"
     },
     "output_type": "display_data"
    }
   ],
   "source": [
    "Outliers_IQR(data['Months_on_book'])\n",
    "min_threshold, max_threshold = data.Months_on_book.quantile([0.05,0.99])\n",
    "min_threshold, max_threshold"
   ]
  },
  {
   "cell_type": "code",
   "execution_count": 332,
   "id": "004b4831",
   "metadata": {},
   "outputs": [
    {
     "data": {
      "text/plain": [
       "(1.0, 6.0)"
      ]
     },
     "execution_count": 332,
     "metadata": {},
     "output_type": "execute_result"
    },
    {
     "data": {
      "image/png": "[encoded data removed]",
      "text/plain": [
       "<Figure size 432x288 with 1 Axes>"
      ]
     },
     "metadata": {
      "needs_background": "light"
     },
     "output_type": "display_data"
    }
   ],
   "source": [
    "Outliers_IQR(data['Total_Relationship_Count'])\n",
    "min_threshold, max_threshold = data.Total_Relationship_Count.quantile([0.05,0.99])\n",
    "min_threshold, max_threshold"
   ]
  },
  {
   "cell_type": "code",
   "execution_count": 333,
   "id": "ab7f2da7",
   "metadata": {},
   "outputs": [
    {
     "data": {
      "text/plain": [
       "(1.0, 6.0)"
      ]
     },
     "execution_count": 333,
     "metadata": {},
     "output_type": "execute_result"
    },
    {
     "data": {
      "image/png": "[encoded data removed]",
      "text/plain": [
       "<Figure size 432x288 with 1 Axes>"
      ]
     },
     "metadata": {
      "needs_background": "light"
     },
     "output_type": "display_data"
    }
   ],
   "source": [
    "Outliers_IQR(data['Months_Inactive_12_mon'])\n",
    "min_threshold, max_threshold = data.Months_Inactive_12_mon.quantile([0.05,0.99])\n",
    "min_threshold, max_threshold"
   ]
  },
  {
   "cell_type": "code",
   "execution_count": 334,
   "id": "fe366f2f",
   "metadata": {},
   "outputs": [
    {
     "data": {
      "text/plain": [
       "(1438.3, 60372.119999999915)"
      ]
     },
     "execution_count": 334,
     "metadata": {},
     "output_type": "execute_result"
    },
    {
     "data": {
      "image/png": "[encoded data removed]",
      "text/plain": [
       "<Figure size 432x288 with 1 Axes>"
      ]
     },
     "metadata": {
      "needs_background": "light"
     },
     "output_type": "display_data"
    }
   ],
   "source": [
    "Outliers_IQR(data['Credit_Limit'])\n",
    "min_threshold, max_threshold = data.Credit_Limit.quantile([0.05,0.99])\n",
    "min_threshold, max_threshold"
   ]
  },
  {
   "cell_type": "code",
   "execution_count": 335,
   "id": "d4ef262a",
   "metadata": {},
   "outputs": [
    {
     "data": {
      "text/plain": [
       "(1.0, 5.0)"
      ]
     },
     "execution_count": 335,
     "metadata": {},
     "output_type": "execute_result"
    },
    {
     "data": {
      "image/png": "[encoded data removed]",
      "text/plain": [
       "<Figure size 432x288 with 1 Axes>"
      ]
     },
     "metadata": {
      "needs_background": "light"
     },
     "output_type": "display_data"
    }
   ],
   "source": [
    "Outliers_IQR(data['Contacts_Count_12_mon'])\n",
    "min_threshold, max_threshold = data.Contacts_Count_12_mon.quantile([0.05,0.99])\n",
    "min_threshold, max_threshold"
   ]
  },
  {
   "cell_type": "code",
   "execution_count": 336,
   "id": "daaff1eb",
   "metadata": {},
   "outputs": [
    {
     "data": {
      "text/plain": [
       "(1283.3, 15882.359999999997)"
      ]
     },
     "execution_count": 336,
     "metadata": {},
     "output_type": "execute_result"
    },
    {
     "data": {
      "image/png": "[encoded data removed]",
      "text/plain": [
       "<Figure size 432x288 with 1 Axes>"
      ]
     },
     "metadata": {
      "needs_background": "light"
     },
     "output_type": "display_data"
    }
   ],
   "source": [
    "Outliers_IQR(data['Six_Months_Trans_Amt'])\n",
    "min_threshold, max_threshold = data.Six_Months_Trans_Amt.quantile([0.05,0.99])\n",
    "min_threshold, max_threshold"
   ]
  },
  {
   "cell_type": "code",
   "execution_count": 337,
   "id": "139bd2bc",
   "metadata": {},
   "outputs": [
    {
     "data": {
      "text/plain": [
       "(1283.3, 15882.359999999997)"
      ]
     },
     "execution_count": 337,
     "metadata": {},
     "output_type": "execute_result"
    },
    {
     "data": {
      "image/png": "[encoded data removed]",
      "text/plain": [
       "<Figure size 432x288 with 1 Axes>"
      ]
     },
     "metadata": {
      "needs_background": "light"
     },
     "output_type": "display_data"
    }
   ],
   "source": [
    "Outliers_IQR(data['Six_Months_Trans_Amt'])\n",
    "min_threshold, max_threshold = data.Six_Months_Trans_Amt.quantile([0.05,0.99])\n",
    "min_threshold, max_threshold"
   ]
  },
  {
   "cell_type": "code",
   "execution_count": 338,
   "id": "36bd51f8",
   "metadata": {},
   "outputs": [
    {
     "data": {
      "text/plain": [
       "(0.0, 3071.4799999999996)"
      ]
     },
     "execution_count": 338,
     "metadata": {},
     "output_type": "execute_result"
    },
    {
     "data": {
      "image/png": "[encoded data removed]",
      "text/plain": [
       "<Figure size 432x288 with 1 Axes>"
      ]
     },
     "metadata": {
      "needs_background": "light"
     },
     "output_type": "display_data"
    }
   ],
   "source": [
    "Outliers_IQR(data['Total_Revolving_Bal'])\n",
    "min_thresold, max_thresold = data.Total_Revolving_Bal.quantile([0.05,0.99])\n",
    "min_thresold, max_thresold"
   ]
  },
  {
   "cell_type": "code",
   "execution_count": 378,
   "id": "102ab09b",
   "metadata": {},
   "outputs": [],
   "source": [
    "def filling_Outliers(yy):\n",
    "    minm = yy.quantile(0.05)\n",
    "    maxm = yy.quantile(0.99)\n",
    "    yy.fillna(maxm)\n",
    "    yy.fillna(minm)"
   ]
  },
  {
   "cell_type": "code",
   "execution_count": 379,
   "id": "74341df2",
   "metadata": {},
   "outputs": [],
   "source": [
    "filling_Outliers(data.Months_on_book)\n",
    "filling_Outliers(data.Months_Inactive_12_mon)\n",
    "filling_Outliers(data.Contacts_Count_12_mon)\n",
    "filling_Outliers(data.Six_Months_Trans_Amt)\n",
    "filling_Outliers(data.Six_Months_Trans_Count)\n",
    "filling_Outliers(data.Credit_Limit)"
   ]
  },
  {
   "cell_type": "code",
   "execution_count": 341,
   "id": "29e79fe1",
   "metadata": {},
   "outputs": [
    {
     "data": {
      "text/html": [
       "<div>\n",
       "<style scoped>\n",
       "    .dataframe tbody tr th:only-of-type {\n",
       "        vertical-align: middle;\n",
       "    }\n",
       "\n",
       "    .dataframe tbody tr th {\n",
       "        vertical-align: top;\n",
       "    }\n",
       "\n",
       "    .dataframe thead th {\n",
       "        text-align: right;\n",
       "    }\n",
       "</style>\n",
       "<table border=\"1\" class=\"dataframe\">\n",
       "  <thead>\n",
       "    <tr style=\"text-align: right;\">\n",
       "      <th></th>\n",
       "      <th>Attrition_Flag</th>\n",
       "      <th>Customer_Age</th>\n",
       "      <th>Gender</th>\n",
       "      <th>Dependent_count</th>\n",
       "      <th>Education_Level</th>\n",
       "      <th>Marital_Status</th>\n",
       "      <th>Income_Category</th>\n",
       "      <th>Card_Category</th>\n",
       "      <th>Months_on_book</th>\n",
       "      <th>Total_Relationship_Count</th>\n",
       "      <th>Months_Inactive_12_mon</th>\n",
       "      <th>Contacts_Count_12_mon</th>\n",
       "      <th>Credit_Limit</th>\n",
       "      <th>Total_Revolving_Bal</th>\n",
       "      <th>Six_Months_Trans_Amt</th>\n",
       "      <th>Six_Months_Trans_Count</th>\n",
       "    </tr>\n",
       "  </thead>\n",
       "  <tbody>\n",
       "    <tr>\n",
       "      <th>0</th>\n",
       "      <td>0</td>\n",
       "      <td>45.0</td>\n",
       "      <td>M</td>\n",
       "      <td>3</td>\n",
       "      <td>High School</td>\n",
       "      <td>Married</td>\n",
       "      <td>$60K - $80K</td>\n",
       "      <td>Blue</td>\n",
       "      <td>39</td>\n",
       "      <td>5</td>\n",
       "      <td>1</td>\n",
       "      <td>3</td>\n",
       "      <td>12691.0</td>\n",
       "      <td>777</td>\n",
       "      <td>1144</td>\n",
       "      <td>42</td>\n",
       "    </tr>\n",
       "    <tr>\n",
       "      <th>1</th>\n",
       "      <td>0</td>\n",
       "      <td>49.0</td>\n",
       "      <td>F</td>\n",
       "      <td>5</td>\n",
       "      <td>Graduate</td>\n",
       "      <td>Single</td>\n",
       "      <td>Less than $40K</td>\n",
       "      <td>Blue</td>\n",
       "      <td>44</td>\n",
       "      <td>6</td>\n",
       "      <td>1</td>\n",
       "      <td>2</td>\n",
       "      <td>8256.0</td>\n",
       "      <td>864</td>\n",
       "      <td>1291</td>\n",
       "      <td>33</td>\n",
       "    </tr>\n",
       "    <tr>\n",
       "      <th>2</th>\n",
       "      <td>0</td>\n",
       "      <td>51.0</td>\n",
       "      <td>M</td>\n",
       "      <td>3</td>\n",
       "      <td>Graduate</td>\n",
       "      <td>Married</td>\n",
       "      <td>$80K - $120K</td>\n",
       "      <td>Blue</td>\n",
       "      <td>36</td>\n",
       "      <td>4</td>\n",
       "      <td>1</td>\n",
       "      <td>0</td>\n",
       "      <td>3418.0</td>\n",
       "      <td>0</td>\n",
       "      <td>1887</td>\n",
       "      <td>20</td>\n",
       "    </tr>\n",
       "    <tr>\n",
       "      <th>3</th>\n",
       "      <td>0</td>\n",
       "      <td>40.0</td>\n",
       "      <td>F</td>\n",
       "      <td>4</td>\n",
       "      <td>High School</td>\n",
       "      <td>Unknown</td>\n",
       "      <td>Less than $40K</td>\n",
       "      <td>Blue</td>\n",
       "      <td>34</td>\n",
       "      <td>3</td>\n",
       "      <td>4</td>\n",
       "      <td>1</td>\n",
       "      <td>3313.0</td>\n",
       "      <td>2661</td>\n",
       "      <td>1171</td>\n",
       "      <td>20</td>\n",
       "    </tr>\n",
       "    <tr>\n",
       "      <th>4</th>\n",
       "      <td>0</td>\n",
       "      <td>40.0</td>\n",
       "      <td>M</td>\n",
       "      <td>3</td>\n",
       "      <td>Uneducated</td>\n",
       "      <td>Married</td>\n",
       "      <td>$60K - $80K</td>\n",
       "      <td>Blue</td>\n",
       "      <td>21</td>\n",
       "      <td>5</td>\n",
       "      <td>1</td>\n",
       "      <td>0</td>\n",
       "      <td>4716.0</td>\n",
       "      <td>0</td>\n",
       "      <td>816</td>\n",
       "      <td>28</td>\n",
       "    </tr>\n",
       "  </tbody>\n",
       "</table>\n",
       "</div>"
      ],
      "text/plain": [
       "   Attrition_Flag  Customer_Age Gender  Dependent_count Education_Level  \\\n",
       "0               0          45.0      M                3     High School   \n",
       "1               0          49.0      F                5        Graduate   \n",
       "2               0          51.0      M                3        Graduate   \n",
       "3               0          40.0      F                4     High School   \n",
       "4               0          40.0      M                3      Uneducated   \n",
       "\n",
       "  Marital_Status Income_Category Card_Category  Months_on_book  \\\n",
       "0        Married     $60K - $80K          Blue              39   \n",
       "1         Single  Less than $40K          Blue              44   \n",
       "2        Married    $80K - $120K          Blue              36   \n",
       "3        Unknown  Less than $40K          Blue              34   \n",
       "4        Married     $60K - $80K          Blue              21   \n",
       "\n",
       "   Total_Relationship_Count  Months_Inactive_12_mon  Contacts_Count_12_mon  \\\n",
       "0                         5                       1                      3   \n",
       "1                         6                       1                      2   \n",
       "2                         4                       1                      0   \n",
       "3                         3                       4                      1   \n",
       "4                         5                       1                      0   \n",
       "\n",
       "   Credit_Limit  Total_Revolving_Bal  Six_Months_Trans_Amt  \\\n",
       "0       12691.0                  777                  1144   \n",
       "1        8256.0                  864                  1291   \n",
       "2        3418.0                    0                  1887   \n",
       "3        3313.0                 2661                  1171   \n",
       "4        4716.0                    0                   816   \n",
       "\n",
       "   Six_Months_Trans_Count  \n",
       "0                      42  \n",
       "1                      33  \n",
       "2                      20  \n",
       "3                      20  \n",
       "4                      28  "
      ]
     },
     "execution_count": 341,
     "metadata": {},
     "output_type": "execute_result"
    }
   ],
   "source": [
    "data.head(5)"
   ]
  },
  {
   "cell_type": "code",
   "execution_count": 380,
   "id": "07c394b7",
   "metadata": {},
   "outputs": [],
   "source": [
    "from statsmodels.stats.outliers_influence import variance_inflation_factor\n",
    "\n",
    "def Cal_vif(data):\n",
    "    vif = pd.DataFrame()\n",
    "    vif['features'] = data.columns\n",
    "    vif['VIF_value'] = [variance_inflation_factor(data.values, i) for i in range(data.shape[1])]\n",
    "    return vif"
   ]
  },
  {
   "cell_type": "code",
   "execution_count": 381,
   "id": "a7a9e2de",
   "metadata": {},
   "outputs": [
    {
     "data": {
      "text/html": [
       "<div>\n",
       "<style scoped>\n",
       "    .dataframe tbody tr th:only-of-type {\n",
       "        vertical-align: middle;\n",
       "    }\n",
       "\n",
       "    .dataframe tbody tr th {\n",
       "        vertical-align: top;\n",
       "    }\n",
       "\n",
       "    .dataframe thead th {\n",
       "        text-align: right;\n",
       "    }\n",
       "</style>\n",
       "<table border=\"1\" class=\"dataframe\">\n",
       "  <thead>\n",
       "    <tr style=\"text-align: right;\">\n",
       "      <th></th>\n",
       "      <th>Customer_Age</th>\n",
       "      <th>Dependent_count</th>\n",
       "      <th>Months_on_book</th>\n",
       "      <th>Total_Relationship_Count</th>\n",
       "      <th>Months_Inactive_12_mon</th>\n",
       "      <th>Contacts_Count_12_mon</th>\n",
       "      <th>Credit_Limit</th>\n",
       "      <th>Total_Revolving_Bal</th>\n",
       "      <th>Six_Months_Trans_Amt</th>\n",
       "      <th>Six_Months_Trans_Count</th>\n",
       "    </tr>\n",
       "  </thead>\n",
       "  <tbody>\n",
       "    <tr>\n",
       "      <th>0</th>\n",
       "      <td>45.0</td>\n",
       "      <td>3</td>\n",
       "      <td>39</td>\n",
       "      <td>5</td>\n",
       "      <td>1</td>\n",
       "      <td>3</td>\n",
       "      <td>12691.0</td>\n",
       "      <td>777</td>\n",
       "      <td>1144</td>\n",
       "      <td>42</td>\n",
       "    </tr>\n",
       "    <tr>\n",
       "      <th>1</th>\n",
       "      <td>49.0</td>\n",
       "      <td>5</td>\n",
       "      <td>44</td>\n",
       "      <td>6</td>\n",
       "      <td>1</td>\n",
       "      <td>2</td>\n",
       "      <td>8256.0</td>\n",
       "      <td>864</td>\n",
       "      <td>1291</td>\n",
       "      <td>33</td>\n",
       "    </tr>\n",
       "    <tr>\n",
       "      <th>2</th>\n",
       "      <td>51.0</td>\n",
       "      <td>3</td>\n",
       "      <td>36</td>\n",
       "      <td>4</td>\n",
       "      <td>1</td>\n",
       "      <td>0</td>\n",
       "      <td>3418.0</td>\n",
       "      <td>0</td>\n",
       "      <td>1887</td>\n",
       "      <td>20</td>\n",
       "    </tr>\n",
       "    <tr>\n",
       "      <th>3</th>\n",
       "      <td>40.0</td>\n",
       "      <td>4</td>\n",
       "      <td>34</td>\n",
       "      <td>3</td>\n",
       "      <td>4</td>\n",
       "      <td>1</td>\n",
       "      <td>3313.0</td>\n",
       "      <td>2661</td>\n",
       "      <td>1171</td>\n",
       "      <td>20</td>\n",
       "    </tr>\n",
       "    <tr>\n",
       "      <th>4</th>\n",
       "      <td>40.0</td>\n",
       "      <td>3</td>\n",
       "      <td>21</td>\n",
       "      <td>5</td>\n",
       "      <td>1</td>\n",
       "      <td>0</td>\n",
       "      <td>4716.0</td>\n",
       "      <td>0</td>\n",
       "      <td>816</td>\n",
       "      <td>28</td>\n",
       "    </tr>\n",
       "  </tbody>\n",
       "</table>\n",
       "</div>"
      ],
      "text/plain": [
       "   Customer_Age  Dependent_count  Months_on_book  Total_Relationship_Count  \\\n",
       "0          45.0                3              39                         5   \n",
       "1          49.0                5              44                         6   \n",
       "2          51.0                3              36                         4   \n",
       "3          40.0                4              34                         3   \n",
       "4          40.0                3              21                         5   \n",
       "\n",
       "   Months_Inactive_12_mon  Contacts_Count_12_mon  Credit_Limit  \\\n",
       "0                       1                      3       12691.0   \n",
       "1                       1                      2        8256.0   \n",
       "2                       1                      0        3418.0   \n",
       "3                       4                      1        3313.0   \n",
       "4                       1                      0        4716.0   \n",
       "\n",
       "   Total_Revolving_Bal  Six_Months_Trans_Amt  Six_Months_Trans_Count  \n",
       "0                  777                  1144                      42  \n",
       "1                  864                  1291                      33  \n",
       "2                    0                  1887                      20  \n",
       "3                 2661                  1171                      20  \n",
       "4                    0                   816                      28  "
      ]
     },
     "execution_count": 381,
     "metadata": {},
     "output_type": "execute_result"
    }
   ],
   "source": [
    "temp_data = data[['Customer_Age','Dependent_count','Months_on_book','Total_Relationship_Count','Months_Inactive_12_mon',\n",
    "                'Contacts_Count_12_mon','Credit_Limit','Total_Revolving_Bal','Six_Months_Trans_Amt','Six_Months_Trans_Count']]\n",
    "temp_data.head()"
   ]
  },
  {
   "cell_type": "code",
   "execution_count": 382,
   "id": "8b9d9861",
   "metadata": {},
   "outputs": [
    {
     "data": {
      "text/html": [
       "<div>\n",
       "<style scoped>\n",
       "    .dataframe tbody tr th:only-of-type {\n",
       "        vertical-align: middle;\n",
       "    }\n",
       "\n",
       "    .dataframe tbody tr th {\n",
       "        vertical-align: top;\n",
       "    }\n",
       "\n",
       "    .dataframe thead th {\n",
       "        text-align: right;\n",
       "    }\n",
       "</style>\n",
       "<table border=\"1\" class=\"dataframe\">\n",
       "  <thead>\n",
       "    <tr style=\"text-align: right;\">\n",
       "      <th></th>\n",
       "      <th>Dependent_count</th>\n",
       "      <th>Total_Relationship_Count</th>\n",
       "      <th>Months_Inactive_12_mon</th>\n",
       "      <th>Contacts_Count_12_mon</th>\n",
       "      <th>Credit_Limit</th>\n",
       "      <th>Total_Revolving_Bal</th>\n",
       "      <th>Six_Months_Trans_Amt</th>\n",
       "    </tr>\n",
       "  </thead>\n",
       "  <tbody>\n",
       "    <tr>\n",
       "      <th>0</th>\n",
       "      <td>3</td>\n",
       "      <td>5</td>\n",
       "      <td>1</td>\n",
       "      <td>3</td>\n",
       "      <td>12691.0</td>\n",
       "      <td>777</td>\n",
       "      <td>1144</td>\n",
       "    </tr>\n",
       "    <tr>\n",
       "      <th>1</th>\n",
       "      <td>5</td>\n",
       "      <td>6</td>\n",
       "      <td>1</td>\n",
       "      <td>2</td>\n",
       "      <td>8256.0</td>\n",
       "      <td>864</td>\n",
       "      <td>1291</td>\n",
       "    </tr>\n",
       "    <tr>\n",
       "      <th>2</th>\n",
       "      <td>3</td>\n",
       "      <td>4</td>\n",
       "      <td>1</td>\n",
       "      <td>0</td>\n",
       "      <td>3418.0</td>\n",
       "      <td>0</td>\n",
       "      <td>1887</td>\n",
       "    </tr>\n",
       "    <tr>\n",
       "      <th>3</th>\n",
       "      <td>4</td>\n",
       "      <td>3</td>\n",
       "      <td>4</td>\n",
       "      <td>1</td>\n",
       "      <td>3313.0</td>\n",
       "      <td>2661</td>\n",
       "      <td>1171</td>\n",
       "    </tr>\n",
       "    <tr>\n",
       "      <th>4</th>\n",
       "      <td>3</td>\n",
       "      <td>5</td>\n",
       "      <td>1</td>\n",
       "      <td>0</td>\n",
       "      <td>4716.0</td>\n",
       "      <td>0</td>\n",
       "      <td>816</td>\n",
       "    </tr>\n",
       "  </tbody>\n",
       "</table>\n",
       "</div>"
      ],
      "text/plain": [
       "   Dependent_count  Total_Relationship_Count  Months_Inactive_12_mon  \\\n",
       "0                3                         5                       1   \n",
       "1                5                         6                       1   \n",
       "2                3                         4                       1   \n",
       "3                4                         3                       4   \n",
       "4                3                         5                       1   \n",
       "\n",
       "   Contacts_Count_12_mon  Credit_Limit  Total_Revolving_Bal  \\\n",
       "0                      3       12691.0                  777   \n",
       "1                      2        8256.0                  864   \n",
       "2                      0        3418.0                    0   \n",
       "3                      1        3313.0                 2661   \n",
       "4                      0        4716.0                    0   \n",
       "\n",
       "   Six_Months_Trans_Amt  \n",
       "0                  1144  \n",
       "1                  1291  \n",
       "2                  1887  \n",
       "3                  1171  \n",
       "4                   816  "
      ]
     },
     "execution_count": 382,
     "metadata": {},
     "output_type": "execute_result"
    }
   ],
   "source": [
    "temp_data = temp_data.drop(['Months_on_book','Customer_Age','Six_Months_Trans_Count'], axis =1)\n",
    "temp_data.head()"
   ]
  },
  {
   "cell_type": "code",
   "execution_count": 383,
   "id": "d32a8958",
   "metadata": {},
   "outputs": [
    {
     "data": {
      "text/plain": [
       "Attrition_Flag              0\n",
       "Customer_Age                0\n",
       "Gender                      0\n",
       "Dependent_count             0\n",
       "Education_Level             0\n",
       "Marital_Status              0\n",
       "Income_Category             0\n",
       "Card_Category               0\n",
       "Months_on_book              0\n",
       "Total_Relationship_Count    0\n",
       "Months_Inactive_12_mon      0\n",
       "Contacts_Count_12_mon       0\n",
       "Credit_Limit                0\n",
       "Total_Revolving_Bal         0\n",
       "Six_Months_Trans_Amt        0\n",
       "Six_Months_Trans_Count      0\n",
       "dtype: int64"
      ]
     },
     "execution_count": 383,
     "metadata": {},
     "output_type": "execute_result"
    }
   ],
   "source": [
    "data.isnull().sum()"
   ]
  },
  {
   "cell_type": "code",
   "execution_count": 384,
   "id": "bb332355",
   "metadata": {},
   "outputs": [
    {
     "data": {
      "text/html": [
       "<div>\n",
       "<style scoped>\n",
       "    .dataframe tbody tr th:only-of-type {\n",
       "        vertical-align: middle;\n",
       "    }\n",
       "\n",
       "    .dataframe tbody tr th {\n",
       "        vertical-align: top;\n",
       "    }\n",
       "\n",
       "    .dataframe thead th {\n",
       "        text-align: right;\n",
       "    }\n",
       "</style>\n",
       "<table border=\"1\" class=\"dataframe\">\n",
       "  <thead>\n",
       "    <tr style=\"text-align: right;\">\n",
       "      <th></th>\n",
       "      <th>features</th>\n",
       "      <th>VIF_value</th>\n",
       "    </tr>\n",
       "  </thead>\n",
       "  <tbody>\n",
       "    <tr>\n",
       "      <th>0</th>\n",
       "      <td>Dependent_count</td>\n",
       "      <td>3.723368</td>\n",
       "    </tr>\n",
       "    <tr>\n",
       "      <th>1</th>\n",
       "      <td>Total_Relationship_Count</td>\n",
       "      <td>5.249152</td>\n",
       "    </tr>\n",
       "    <tr>\n",
       "      <th>2</th>\n",
       "      <td>Months_Inactive_12_mon</td>\n",
       "      <td>5.081825</td>\n",
       "    </tr>\n",
       "    <tr>\n",
       "      <th>3</th>\n",
       "      <td>Contacts_Count_12_mon</td>\n",
       "      <td>4.865856</td>\n",
       "    </tr>\n",
       "    <tr>\n",
       "      <th>4</th>\n",
       "      <td>Credit_Limit</td>\n",
       "      <td>1.635849</td>\n",
       "    </tr>\n",
       "    <tr>\n",
       "      <th>5</th>\n",
       "      <td>Total_Revolving_Bal</td>\n",
       "      <td>2.145092</td>\n",
       "    </tr>\n",
       "    <tr>\n",
       "      <th>6</th>\n",
       "      <td>Six_Months_Trans_Amt</td>\n",
       "      <td>2.504721</td>\n",
       "    </tr>\n",
       "  </tbody>\n",
       "</table>\n",
       "</div>"
      ],
      "text/plain": [
       "                   features  VIF_value\n",
       "0           Dependent_count   3.723368\n",
       "1  Total_Relationship_Count   5.249152\n",
       "2    Months_Inactive_12_mon   5.081825\n",
       "3     Contacts_Count_12_mon   4.865856\n",
       "4              Credit_Limit   1.635849\n",
       "5       Total_Revolving_Bal   2.145092\n",
       "6      Six_Months_Trans_Amt   2.504721"
      ]
     },
     "execution_count": 384,
     "metadata": {},
     "output_type": "execute_result"
    }
   ],
   "source": [
    "Calculate_VIF (New_data)"
   ]
  },
  {
   "cell_type": "code",
   "execution_count": 385,
   "id": "26b19bf3",
   "metadata": {},
   "outputs": [
    {
     "data": {
      "text/html": [
       "<div>\n",
       "<style scoped>\n",
       "    .dataframe tbody tr th:only-of-type {\n",
       "        vertical-align: middle;\n",
       "    }\n",
       "\n",
       "    .dataframe tbody tr th {\n",
       "        vertical-align: top;\n",
       "    }\n",
       "\n",
       "    .dataframe thead th {\n",
       "        text-align: right;\n",
       "    }\n",
       "</style>\n",
       "<table border=\"1\" class=\"dataframe\">\n",
       "  <thead>\n",
       "    <tr style=\"text-align: right;\">\n",
       "      <th></th>\n",
       "      <th>Attrition_Flag</th>\n",
       "      <th>Dependent_count</th>\n",
       "      <th>Total_Relationship_Count</th>\n",
       "      <th>Months_Inactive_12_mon</th>\n",
       "      <th>Contacts_Count_12_mon</th>\n",
       "      <th>Credit_Limit</th>\n",
       "      <th>Total_Revolving_Bal</th>\n",
       "      <th>Six_Months_Trans_Amt</th>\n",
       "    </tr>\n",
       "  </thead>\n",
       "  <tbody>\n",
       "    <tr>\n",
       "      <th>0</th>\n",
       "      <td>0</td>\n",
       "      <td>3</td>\n",
       "      <td>5</td>\n",
       "      <td>1</td>\n",
       "      <td>3</td>\n",
       "      <td>12691.0</td>\n",
       "      <td>777</td>\n",
       "      <td>1144</td>\n",
       "    </tr>\n",
       "    <tr>\n",
       "      <th>1</th>\n",
       "      <td>0</td>\n",
       "      <td>5</td>\n",
       "      <td>6</td>\n",
       "      <td>1</td>\n",
       "      <td>2</td>\n",
       "      <td>8256.0</td>\n",
       "      <td>864</td>\n",
       "      <td>1291</td>\n",
       "    </tr>\n",
       "    <tr>\n",
       "      <th>2</th>\n",
       "      <td>0</td>\n",
       "      <td>3</td>\n",
       "      <td>4</td>\n",
       "      <td>1</td>\n",
       "      <td>0</td>\n",
       "      <td>3418.0</td>\n",
       "      <td>0</td>\n",
       "      <td>1887</td>\n",
       "    </tr>\n",
       "  </tbody>\n",
       "</table>\n",
       "</div>"
      ],
      "text/plain": [
       "   Attrition_Flag  Dependent_count  Total_Relationship_Count  \\\n",
       "0               0                3                         5   \n",
       "1               0                5                         6   \n",
       "2               0                3                         4   \n",
       "\n",
       "   Months_Inactive_12_mon  Contacts_Count_12_mon  Credit_Limit  \\\n",
       "0                       1                      3       12691.0   \n",
       "1                       1                      2        8256.0   \n",
       "2                       1                      0        3418.0   \n",
       "\n",
       "   Total_Revolving_Bal  Six_Months_Trans_Amt  \n",
       "0                  777                  1144  \n",
       "1                  864                  1291  \n",
       "2                    0                  1887  "
      ]
     },
     "execution_count": 385,
     "metadata": {},
     "output_type": "execute_result"
    }
   ],
   "source": [
    "t_data = data[['Attrition_Flag','Dependent_count','Total_Relationship_Count','Months_Inactive_12_mon','Contacts_Count_12_mon','Credit_Limit','Total_Revolving_Bal','Six_Months_Trans_Amt']]\n",
    "t_data.head(3)"
   ]
  },
  {
   "cell_type": "markdown",
   "id": "60ab3fac",
   "metadata": {},
   "source": [
    "## Splitting Data"
   ]
  },
  {
   "cell_type": "code",
   "execution_count": 386,
   "id": "023700d0",
   "metadata": {},
   "outputs": [],
   "source": [
    "x = t_data.drop(['Attrition_Flag'], axis =1)\n",
    "y = t_data['Attrition_Flag']"
   ]
  },
  {
   "cell_type": "markdown",
   "id": "ac3891c2",
   "metadata": {},
   "source": [
    "## Logistic Regression"
   ]
  },
  {
   "cell_type": "code",
   "execution_count": 414,
   "id": "44b1deeb",
   "metadata": {},
   "outputs": [],
   "source": [
    "from  sklearn.linear_model import LogisticRegression\n",
    "from sklearn.model_selection import train_test_split\n",
    "from sklearn.metrics import classification_report"
   ]
  },
  {
   "cell_type": "code",
   "execution_count": 415,
   "id": "70fdc8e5",
   "metadata": {},
   "outputs": [],
   "source": [
    "X_train, X_test, Y_train, Y_test = train_test_split(x,y, test_size=0.4, random_state=42)"
   ]
  },
  {
   "cell_type": "code",
   "execution_count": 416,
   "id": "4234f28d",
   "metadata": {},
   "outputs": [
    {
     "data": {
      "text/plain": [
       "LogisticRegression()"
      ]
     },
     "execution_count": 416,
     "metadata": {},
     "output_type": "execute_result"
    }
   ],
   "source": [
    "LR = LogisticRegression()\n",
    "LR.fit(X_train, Y_train)"
   ]
  },
  {
   "cell_type": "code",
   "execution_count": 417,
   "id": "1bd254c1",
   "metadata": {},
   "outputs": [],
   "source": [
    "pred = model_LR.predict(X_test)"
   ]
  },
  {
   "cell_type": "code",
   "execution_count": 418,
   "id": "5c6ebdf8",
   "metadata": {},
   "outputs": [
    {
     "name": "stdout",
     "output_type": "stream",
     "text": [
      "              precision    recall  f1-score   support\n",
      "\n",
      "           0       0.88      0.99      0.93      3390\n",
      "           1       0.79      0.28      0.42       661\n",
      "\n",
      "    accuracy                           0.87      4051\n",
      "   macro avg       0.83      0.63      0.67      4051\n",
      "weighted avg       0.86      0.87      0.84      4051\n",
      "\n"
     ]
    }
   ],
   "source": [
    "pred = LR.predict(X_test)\n",
    "print(classification_report(Y_test,prediction))"
   ]
  },
  {
   "cell_type": "code",
   "execution_count": null,
   "id": "eea07187",
   "metadata": {},
   "outputs": [],
   "source": []
  },
  {
   "cell_type": "code",
   "execution_count": null,
   "id": "6d42c5cf",
   "metadata": {},
   "outputs": [],
   "source": []
  }
 ],
 "metadata": {
  "kernelspec": {
   "display_name": "Python 3",
   "language": "python",
   "name": "python3"
  },
  "language_info": {
   "codemirror_mode": {
    "name": "ipython",
    "version": 3
   },
   "file_extension": ".py",
   "mimetype": "text/x-python",
   "name": "python",
   "nbconvert_exporter": "python",
   "pygments_lexer": "ipython3",
   "version": "3.8.8"
  }
 },
 "nbformat": 4,
 "nbformat_minor": 5
}
